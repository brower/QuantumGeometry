{
 "cells": [
  {
   "cell_type": "markdown",
   "metadata": {},
   "source": [
    "# BC_test  \n",
    "Brower\n",
    "June 19, 2022"
   ]
  },
  {
   "cell_type": "markdown",
   "metadata": {},
   "source": [
    "#### One way to run bash inside a Jupyter notebook cell"
   ]
  },
  {
   "cell_type": "code",
   "execution_count": 1,
   "metadata": {},
   "outputs": [
    {
     "name": "stdout",
     "output_type": "stream",
     "text": [
      "make: Nothing to be done for `all'.\n"
     ]
    }
   ],
   "source": [
    "%%bash\n",
    "cd /Users/richardbrower/Desktop/TryJupyter\n",
    "make"
   ]
  },
  {
   "cell_type": "markdown",
   "metadata": {},
   "source": [
    "#### Another way to run bash inside a Jupyter notebook cell "
   ]
  },
  {
   "cell_type": "code",
   "execution_count": 2,
   "metadata": {},
   "outputs": [
    {
     "name": "stdout",
     "output_type": "stream",
     "text": [
      " Ising on Lx by Ly  triagular lattice: 64  64 critical point 0.274653\n",
      "0 In Heat Bath   138   \n",
      "100 In Heat Bath   384   \n",
      "200 In Heat Bath   -256   \n",
      "300 In Heat Bath   -680   \n",
      "400 In Heat Bath   -736   \n",
      "500 In Heat Bath   -1230   \n",
      "600 In Heat Bath   -2018   \n",
      "700 In Heat Bath   -2496   \n",
      "800 In Heat Bath   -3132   \n",
      "900 In Heat Bath   -3574   \n",
      "0 In Wolff signed_flip =   -3505Mag and  Update mag 3532 3532\n",
      "100 In Wolff signed_flip =   1Mag and  Update mag -3678 -3678\n",
      "200 In Wolff signed_flip =   -2Mag and  Update mag -3582 -3582\n",
      "300 In Wolff signed_flip =   3380Mag and  Update mag -3494 -3494\n",
      "400 In Wolff signed_flip =   3504Mag and  Update mag -3406 -3406\n",
      "500 In Wolff signed_flip =   -3457Mag and  Update mag 3540 3540\n",
      "600 In Wolff signed_flip =   -3407Mag and  Update mag 3328 3328\n",
      "700 In Wolff signed_flip =   -3573Mag and  Update mag 3524 3524\n",
      "800 In Wolff signed_flip =   3471Mag and  Update mag -3426 -3426\n",
      "900 In Wolff signed_flip =   3559Mag and  Update mag -3532 -3532\n"
     ]
    }
   ],
   "source": [
    "! ./BC"
   ]
  },
  {
   "cell_type": "code",
   "execution_count": 3,
   "metadata": {},
   "outputs": [],
   "source": [
    "#! cat BClattice.dat"
   ]
  },
  {
   "cell_type": "markdown",
   "metadata": {},
   "source": [
    "### Plot using python"
   ]
  },
  {
   "cell_type": "markdown",
   "metadata": {},
   "source": [
    "#### Import necessary modules "
   ]
  },
  {
   "cell_type": "code",
   "execution_count": 4,
   "metadata": {},
   "outputs": [],
   "source": [
    "import matplotlib.pyplot as plt\n",
    "import numpy as np"
   ]
  },
  {
   "cell_type": "markdown",
   "metadata": {},
   "source": [
    "#### Read data into numpy"
   ]
  },
  {
   "cell_type": "code",
   "execution_count": 5,
   "metadata": {},
   "outputs": [
    {
     "name": "stdout",
     "output_type": "stream",
     "text": [
      "[[-1 -1 -1 ... -1 -1 -1]\n",
      " [-1 -1 -1 ... -1 -1 -1]\n",
      " [-1 -1 -1 ... -1 -1 -1]\n",
      " ...\n",
      " [-1 -1 -1 ... -1 -1 -1]\n",
      " [-1 -1 -1 ... -1 -1 -1]\n",
      " [-1 -1 -1 ... -1  1 -1]]\n"
     ]
    }
   ],
   "source": [
    "lattice_config = np.loadtxt(\"BClattice.dat\", dtype=int)\n",
    "print(lattice_config)"
   ]
  },
  {
   "cell_type": "code",
   "execution_count": 11,
   "metadata": {},
   "outputs": [
    {
     "data": {
      "text/plain": [
       "<matplotlib.image.AxesImage at 0x7fdbc435d340>"
      ]
     },
     "execution_count": 11,
     "metadata": {},
     "output_type": "execute_result"
    },
    {
     "data": {
      "image/png": "[encoded data removed]",
      "text/plain": [
       "<Figure size 432x288 with 1 Axes>"
      ]
     },
     "metadata": {
      "needs_background": "light"
     },
     "output_type": "display_data"
    }
   ],
   "source": [
    "plt.imshow(lattice_config, cmap='plasma')"
   ]
  },
  {
   "cell_type": "code",
   "execution_count": null,
   "metadata": {},
   "outputs": [],
   "source": []
  },
  {
   "cell_type": "code",
   "execution_count": null,
   "metadata": {},
   "outputs": [],
   "source": []
  }
 ],
 "metadata": {
  "kernelspec": {
   "display_name": "Python 3",
   "language": "python",
   "name": "python3"
  },
  "language_info": {
   "codemirror_mode": {
    "name": "ipython",
    "version": 3
   },
   "file_extension": ".py",
   "mimetype": "text/x-python",
   "name": "python",
   "nbconvert_exporter": "python",
   "pygments_lexer": "ipython3",
   "version": "3.8.5"
  }
 },
 "nbformat": 4,
 "nbformat_minor": 5
}
