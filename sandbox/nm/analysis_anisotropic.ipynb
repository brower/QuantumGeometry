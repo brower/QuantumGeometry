{
 "cells": [
  {
   "cell_type": "code",
   "execution_count": 52,
   "id": "8a14a82e",
   "metadata": {},
   "outputs": [],
   "source": [
    "import numpy as np\n",
    "import matplotlib.pyplot as plt"
   ]
  },
  {
   "cell_type": "code",
   "execution_count": 53,
   "id": "ccf7342b",
   "metadata": {},
   "outputs": [],
   "source": [
    "class Jackknife:\n",
    "    def __init__( self, len_data, binsize ):\n",
    "        self.binsize = binsize\n",
    "        self.nbins = int(len_data/self.binsize)\n",
    "        self.N = self.binsize * self.nbins\n",
    "        self.jack_avg = []\n",
    "        self.est = 0\n",
    "        self.var_est = 0\n",
    "\n",
    "    def set( self, func, list_of_data ):\n",
    "        for i in range( self.nbins ):\n",
    "            self.jack_avg.append( func( i, self.binsize, list_of_data ) )\n",
    "\n",
    "    def do_it( self ):\n",
    "        for i in range( 0, self.nbins ):\n",
    "            self.est += self.jack_avg[i]\n",
    "        self.est /= self.nbins\n",
    "\n",
    "        for i in range( 0, self.nbins ):\n",
    "            self.var_est += ( self.jack_avg[i] - self.est )**2\n",
    "        self.var_est /= self.nbins\n",
    "        self.var_est *= self.nbins -1\n",
    "\n",
    "    def mean( self ):\n",
    "        return self.est\n",
    "\n",
    "    def var( self ):\n",
    "        return self.var_est\n",
    "\n",
    "    def err( self ):\n",
    "        return np.sqrt(self.var_est)\n",
    "\n",
    "def simple_mean(i, binsize, np_data):\n",
    "    resmpld = np.delete(np_data, np.s_[i*binsize:(i+1)*binsize], axis=0)\n",
    "    return np.mean(resmpld, axis=0)\n",
    "\n",
    "def format_print(cen, err):\n",
    "    for i in range(-50, 50):\n",
    "        if 10**(-i+1)>=err>10**(-i):\n",
    "            tmp=err*10**(i+1)\n",
    "            return '{num:.{width}f}'.format(num=cen, width=i+1)+'('+str(round(tmp))+')'\n",
    "\n",
    "def format_print_w_exact(exact, cen, err):\n",
    "    if np.abs(err)<1.0e-15:\n",
    "        return str(cen)+\" exact:\"+str(exact)\n",
    "    for i in range(-50, 50):\n",
    "        if 10**(-i+1)>=err>10**(-i):\n",
    "            tmp=err*10**(i+1)\n",
    "            return '{num:.{width}f}'.format(num=cen, width=i+1)+'('+str(round(tmp))+')'+' exact:'+'{ex:.{width}f}'.format(ex=exact, width=i+2)+' ['+'{num:.{width}f}'.format(num=abs(exact-cen)/err, width=2)+' sigma]'"
   ]
  },
  {
   "cell_type": "code",
   "execution_count": 54,
   "id": "0595f0a2",
   "metadata": {},
   "outputs": [],
   "source": [
    "def format_print_w_exact_matrix(exact, cen, err):\n",
    "    shape=exact.shape\n",
    "    res=np.full(shape, \"\", dtype=object)\n",
    "\n",
    "    for i in np.arange(shape[0]):\n",
    "        for j in np.arange(shape[1]):\n",
    "            res[i,j]=format_print_w_exact(exact[i,j], cen[i,j], err[i,j])\n",
    "            \n",
    "    return np.array(res)"
   ]
  },
  {
   "cell_type": "code",
   "execution_count": 55,
   "id": "b6ba35a6",
   "metadata": {},
   "outputs": [],
   "source": [
    "def H3x3_numeric(beta_,h_, kx_,ky_,kz_, s1,s2,s3,s4,s5,s6,s7,s8,s9):\n",
    "    res = 0.0\n",
    "    res += kx_*s1*s2\n",
    "    res += kx_*s2*s3\n",
    "    res += kx_*s3*s1\n",
    "    res += kx_*s4*s5\n",
    "    res += kx_*s5*s6\n",
    "    res += kx_*s6*s4\n",
    "    res += kx_*s7*s8\n",
    "    res += kx_*s8*s9\n",
    "    res += kx_*s9*s7\n",
    "    #\n",
    "    res += ky_*s1*s4\n",
    "    res += ky_*s2*s5\n",
    "    res += ky_*s3*s6\n",
    "    res += ky_*s4*s7\n",
    "    res += ky_*s5*s8\n",
    "    res += ky_*s6*s9\n",
    "    res += ky_*s7*s1\n",
    "    res += ky_*s8*s2\n",
    "    res += ky_*s9*s3\n",
    "    #\n",
    "    res += kz_*s1*s5\n",
    "    res += kz_*s2*s6\n",
    "    res += kz_*s3*s4\n",
    "    res += kz_*s4*s8\n",
    "    res += kz_*s5*s9\n",
    "    res += kz_*s6*s7\n",
    "    res += kz_*s7*s2\n",
    "    res += kz_*s8*s3\n",
    "    res += kz_*s9*s1\n",
    "    \n",
    "    res *= -beta_\n",
    "    res -= h_*(s1+s2+s3+s4+s5+s6+s7+s8+s9)\n",
    "    \n",
    "    return res"
   ]
  },
  {
   "cell_type": "code",
   "execution_count": 56,
   "id": "8ab4ac26",
   "metadata": {},
   "outputs": [],
   "source": [
    "def Z3x3_numeric(beta_,h_, kx_,ky_,kz_):\n",
    "    res=0.0\n",
    "    for s1 in [-1,1]:\n",
    "        for s2 in [-1,1]:\n",
    "            for s3 in [-1,1]:\n",
    "                for s4 in [-1,1]:\n",
    "                    for s5 in [-1,1]:\n",
    "                        for s6 in [-1,1]:\n",
    "                            for s7 in [-1,1]:\n",
    "                                for s8 in [-1,1]:\n",
    "                                    for s9 in [-1,1]:\n",
    "                                        res += np.exp(-H3x3_numeric(beta_,h_, kx_,ky_,kz_, \n",
    "                                                                    s1,s2,s3,s4,s5,s6,s7,s8,s9))\n",
    "    return res"
   ]
  },
  {
   "cell_type": "code",
   "execution_count": 57,
   "id": "ac5253c1",
   "metadata": {},
   "outputs": [],
   "source": [
    "def mag_per_site3x3_numeric(beta_,h_, kx_,ky_,kz_):\n",
    "    numer=0.0\n",
    "    denom=0.0\n",
    "    for s1 in [-1,1]:\n",
    "        for s2 in [-1,1]:\n",
    "            for s3 in [-1,1]:\n",
    "                for s4 in [-1,1]:\n",
    "                    for s5 in [-1,1]:\n",
    "                        for s6 in [-1,1]:\n",
    "                            for s7 in [-1,1]:\n",
    "                                for s8 in [-1,1]:\n",
    "                                    for s9 in [-1,1]:\n",
    "                                        numer += (s1+s2+s3+s4+s5+s6+s7+s8+s9)*np.exp(-H3x3_numeric(beta_,h_, kx_,ky_,kz_, \n",
    "                                                                                     s1,s2,s3,s4,s5,s6,s7,s8,s9))\n",
    "                                        denom += np.exp(-H3x3_numeric(beta_,h_, kx_,ky_,kz_, \n",
    "                                                                      s1,s2,s3,s4,s5,s6,s7,s8,s9))\n",
    "    res = numer/denom/9.0\n",
    "    return res"
   ]
  },
  {
   "cell_type": "code",
   "execution_count": 58,
   "id": "80d607e0",
   "metadata": {},
   "outputs": [],
   "source": [
    "def ss_matrix(s1,s2,s3,s4,s5,s6,s7,s8,s9):\n",
    "    mat=np.array([\n",
    "        [s1*s1, s1*s2, s1*s3],\n",
    "        [s1*s4, s1*s5, s1*s6],\n",
    "        [s1*s7, s1*s8, s1*s9]\n",
    "    ])\n",
    "    return mat"
   ]
  },
  {
   "cell_type": "code",
   "execution_count": 59,
   "id": "746f27ae",
   "metadata": {},
   "outputs": [],
   "source": [
    "def exex_matrix(s1,s2,s3,s4,s5,s6,s7,s8,s9):\n",
    "    ex=np.array([\n",
    "        [s1*s2, s2*s3, s3*s1],\n",
    "        [s4*s5, s5*s6, s6*s4],\n",
    "        [s7*s8, s8*s9, s9*s7]\n",
    "    ])\n",
    "    mat=np.array([\n",
    "        [ex[0,0]*ex[0,0], ex[0,0]*ex[0,1], ex[0,0]*ex[0,2]],\n",
    "        [ex[0,0]*ex[1,0], ex[0,0]*ex[1,1], ex[0,0]*ex[1,2]],\n",
    "        [ex[0,0]*ex[2,0], ex[0,0]*ex[2,1], ex[0,0]*ex[2,2]]\n",
    "    ])\n",
    "    return mat"
   ]
  },
  {
   "cell_type": "code",
   "execution_count": 60,
   "id": "9785a874",
   "metadata": {},
   "outputs": [],
   "source": [
    "def exey_matrix(s1,s2,s3,s4,s5,s6,s7,s8,s9):\n",
    "    ex=np.array([\n",
    "        [s1*s2, s2*s3, s3*s1],\n",
    "        [s4*s5, s5*s6, s6*s4],\n",
    "        [s7*s8, s8*s9, s9*s7]\n",
    "    ])\n",
    "    ey=np.array([\n",
    "        [s1*s4, s2*s5, s3*s6],\n",
    "        [s4*s7, s5*s8, s6*s9],\n",
    "        [s7*s1, s8*s2, s9*s3]\n",
    "    ])\n",
    "    mat=np.array([\n",
    "        [ex[0,0]*ey[0,0], ex[0,0]*ey[0,1], ex[0,0]*ey[0,2]],\n",
    "        [ex[0,0]*ey[1,0], ex[0,0]*ey[1,1], ex[0,0]*ey[1,2]],\n",
    "        [ex[0,0]*ey[2,0], ex[0,0]*ey[2,1], ex[0,0]*ey[2,2]]\n",
    "    ])\n",
    "    return mat"
   ]
  },
  {
   "cell_type": "code",
   "execution_count": 61,
   "id": "949d0897",
   "metadata": {},
   "outputs": [],
   "source": [
    "def exez_matrix(s1,s2,s3,s4,s5,s6,s7,s8,s9):\n",
    "    ex=np.array([\n",
    "        [s1*s2, s2*s3, s3*s1],\n",
    "        [s4*s5, s5*s6, s6*s4],\n",
    "        [s7*s8, s8*s9, s9*s7]\n",
    "    ])\n",
    "    ez=np.array([\n",
    "        [s1*s5, s2*s6, s3*s4],\n",
    "        [s4*s8, s5*s9, s6*s7],\n",
    "        [s7*s2, s8*s3, s9*s1]\n",
    "    ])\n",
    "    mat=np.array([\n",
    "        [ex[0,0]*ez[0,0], ex[0,0]*ez[0,1], ex[0,0]*ez[0,2]],\n",
    "        [ex[0,0]*ez[1,0], ex[0,0]*ez[1,1], ex[0,0]*ez[1,2]],\n",
    "        [ex[0,0]*ez[2,0], ex[0,0]*ez[2,1], ex[0,0]*ez[2,2]]\n",
    "    ])\n",
    "    return mat"
   ]
  },
  {
   "cell_type": "code",
   "execution_count": 62,
   "id": "1a35a488",
   "metadata": {},
   "outputs": [],
   "source": [
    "def eyey_matrix(s1,s2,s3,s4,s5,s6,s7,s8,s9):\n",
    "    ey=np.array([\n",
    "        [s1*s4, s2*s5, s3*s6],\n",
    "        [s4*s7, s5*s8, s6*s9],\n",
    "        [s7*s1, s8*s2, s9*s3]\n",
    "    ])\n",
    "    mat=np.array([\n",
    "        [ey[0,0]*ey[0,0], ey[0,0]*ey[0,1], ey[0,0]*ey[0,2]],\n",
    "        [ey[0,0]*ey[1,0], ey[0,0]*ey[1,1], ey[0,0]*ey[1,2]],\n",
    "        [ey[0,0]*ey[2,0], ey[0,0]*ey[2,1], ey[0,0]*ey[2,2]]\n",
    "    ])\n",
    "    return mat"
   ]
  },
  {
   "cell_type": "code",
   "execution_count": 63,
   "id": "8023f320",
   "metadata": {},
   "outputs": [],
   "source": [
    "def eyez_matrix(s1,s2,s3,s4,s5,s6,s7,s8,s9):\n",
    "    ey=np.array([\n",
    "        [s1*s4, s2*s5, s3*s6],\n",
    "        [s4*s7, s5*s8, s6*s9],\n",
    "        [s7*s1, s8*s2, s9*s3]\n",
    "    ])\n",
    "    ez=np.array([\n",
    "        [s1*s5, s2*s6, s3*s4],\n",
    "        [s4*s8, s5*s9, s6*s7],\n",
    "        [s7*s2, s8*s3, s9*s1]\n",
    "    ])\n",
    "    mat=np.array([\n",
    "        [ey[0,0]*ez[0,0], ey[0,0]*ez[0,1], ey[0,0]*ez[0,2]],\n",
    "        [ey[0,0]*ez[1,0], ey[0,0]*ez[1,1], ey[0,0]*ez[1,2]],\n",
    "        [ey[0,0]*ez[2,0], ey[0,0]*ez[2,1], ey[0,0]*ez[2,2]]\n",
    "    ])\n",
    "    return mat"
   ]
  },
  {
   "cell_type": "code",
   "execution_count": 64,
   "id": "3095c075",
   "metadata": {},
   "outputs": [],
   "source": [
    "def ezez_matrix(s1,s2,s3,s4,s5,s6,s7,s8,s9):\n",
    "    ez=np.array([\n",
    "        [s1*s5, s2*s6, s3*s4],\n",
    "        [s4*s8, s5*s9, s6*s7],\n",
    "        [s7*s2, s8*s3, s9*s1]\n",
    "    ])\n",
    "    mat=np.array([\n",
    "        [ez[0,0]*ez[0,0], ez[0,0]*ez[0,1], ez[0,0]*ez[0,2]],\n",
    "        [ez[0,0]*ez[1,0], ez[0,0]*ez[1,1], ez[0,0]*ez[1,2]],\n",
    "        [ez[0,0]*ez[2,0], ez[0,0]*ez[2,1], ez[0,0]*ez[2,2]]\n",
    "    ])\n",
    "    return mat"
   ]
  },
  {
   "cell_type": "code",
   "execution_count": 65,
   "id": "e28ace45",
   "metadata": {},
   "outputs": [],
   "source": [
    "def ss_corr_numeric(beta_,h_, kx_,ky_,kz_):\n",
    "\n",
    "    numer=ss_matrix(0.,0.,0.,0.,0.,0.,0.,0.,0.)\n",
    "    denom=0.0\n",
    "    \n",
    "    for s1 in [-1,1]:\n",
    "        for s2 in [-1,1]:\n",
    "            for s3 in [-1,1]:\n",
    "                for s4 in [-1,1]:\n",
    "                    for s5 in [-1,1]:\n",
    "                        for s6 in [-1,1]:\n",
    "                            for s7 in [-1,1]:\n",
    "                                for s8 in [-1,1]:\n",
    "                                    for s9 in [-1,1]:\n",
    "                                        tmp = ss_matrix(s1,s2,s3,s4,s5,s6,s7,s8,s9)\n",
    "                                        numer += tmp*np.exp(-H3x3_numeric(beta_,h_, kx_,ky_,kz_, \n",
    "                                                                          s1,s2,s3,s4,s5,s6,s7,s8,s9))\n",
    "                                        denom += np.exp(-H3x3_numeric(beta_,h_, kx_,ky_,kz_, \n",
    "                                                                      s1,s2,s3,s4,s5,s6,s7,s8,s9))    \n",
    "    res = numer/denom\n",
    "    return res"
   ]
  },
  {
   "cell_type": "code",
   "execution_count": 66,
   "id": "71f35a05",
   "metadata": {},
   "outputs": [],
   "source": [
    "def exex_corr_numeric(beta_,h_, kx_,ky_,kz_):\n",
    "\n",
    "    numer=exex_matrix(0.,0.,0.,0.,0.,0.,0.,0.,0.)\n",
    "    denom=0.0\n",
    "    \n",
    "    for s1 in [-1,1]:\n",
    "        for s2 in [-1,1]:\n",
    "            for s3 in [-1,1]:\n",
    "                for s4 in [-1,1]:\n",
    "                    for s5 in [-1,1]:\n",
    "                        for s6 in [-1,1]:\n",
    "                            for s7 in [-1,1]:\n",
    "                                for s8 in [-1,1]:\n",
    "                                    for s9 in [-1,1]:\n",
    "                                        tmp = exex_matrix(s1,s2,s3,s4,s5,s6,s7,s8,s9)\n",
    "                                        numer += tmp*np.exp(-H3x3_numeric(beta_,h_, kx_,ky_,kz_, \n",
    "                                                                          s1,s2,s3,s4,s5,s6,s7,s8,s9))\n",
    "                                        denom += np.exp(-H3x3_numeric(beta_,h_, kx_,ky_,kz_, \n",
    "                                                                      s1,s2,s3,s4,s5,s6,s7,s8,s9))    \n",
    "    res = numer/denom\n",
    "    return res"
   ]
  },
  {
   "cell_type": "code",
   "execution_count": 67,
   "id": "661287b7",
   "metadata": {},
   "outputs": [],
   "source": [
    "def exey_corr_numeric(beta_,h_, kx_,ky_,kz_):\n",
    "\n",
    "    numer=exey_matrix(0.,0.,0.,0.,0.,0.,0.,0.,0.)\n",
    "    denom=0.0\n",
    "    \n",
    "    for s1 in [-1,1]:\n",
    "        for s2 in [-1,1]:\n",
    "            for s3 in [-1,1]:\n",
    "                for s4 in [-1,1]:\n",
    "                    for s5 in [-1,1]:\n",
    "                        for s6 in [-1,1]:\n",
    "                            for s7 in [-1,1]:\n",
    "                                for s8 in [-1,1]:\n",
    "                                    for s9 in [-1,1]:\n",
    "                                        tmp = exey_matrix(s1,s2,s3,s4,s5,s6,s7,s8,s9)\n",
    "                                        numer += tmp*np.exp(-H3x3_numeric(beta_,h_, kx_,ky_,kz_, \n",
    "                                                                          s1,s2,s3,s4,s5,s6,s7,s8,s9))\n",
    "                                        denom += np.exp(-H3x3_numeric(beta_,h_, kx_,ky_,kz_, \n",
    "                                                                      s1,s2,s3,s4,s5,s6,s7,s8,s9))    \n",
    "    res = numer/denom\n",
    "    return res"
   ]
  },
  {
   "cell_type": "code",
   "execution_count": 68,
   "id": "f31d9aa9",
   "metadata": {},
   "outputs": [],
   "source": [
    "def exez_corr_numeric(beta_,h_, kx_,ky_,kz_):\n",
    "\n",
    "    numer=exez_matrix(0.,0.,0.,0.,0.,0.,0.,0.,0.)\n",
    "    denom=0.0\n",
    "    \n",
    "    for s1 in [-1,1]:\n",
    "        for s2 in [-1,1]:\n",
    "            for s3 in [-1,1]:\n",
    "                for s4 in [-1,1]:\n",
    "                    for s5 in [-1,1]:\n",
    "                        for s6 in [-1,1]:\n",
    "                            for s7 in [-1,1]:\n",
    "                                for s8 in [-1,1]:\n",
    "                                    for s9 in [-1,1]:\n",
    "                                        tmp = exez_matrix(s1,s2,s3,s4,s5,s6,s7,s8,s9)\n",
    "                                        numer += tmp*np.exp(-H3x3_numeric(beta_,h_, kx_,ky_,kz_, \n",
    "                                                                          s1,s2,s3,s4,s5,s6,s7,s8,s9))\n",
    "                                        denom += np.exp(-H3x3_numeric(beta_,h_, kx_,ky_,kz_, \n",
    "                                                                      s1,s2,s3,s4,s5,s6,s7,s8,s9))    \n",
    "    res = numer/denom\n",
    "    return res"
   ]
  },
  {
   "cell_type": "code",
   "execution_count": 69,
   "id": "8c055c40",
   "metadata": {},
   "outputs": [],
   "source": [
    "def eyey_corr_numeric(beta_,h_, kx_,ky_,kz_):\n",
    "\n",
    "    numer=eyey_matrix(0.,0.,0.,0.,0.,0.,0.,0.,0.)\n",
    "    denom=0.0\n",
    "    \n",
    "    for s1 in [-1,1]:\n",
    "        for s2 in [-1,1]:\n",
    "            for s3 in [-1,1]:\n",
    "                for s4 in [-1,1]:\n",
    "                    for s5 in [-1,1]:\n",
    "                        for s6 in [-1,1]:\n",
    "                            for s7 in [-1,1]:\n",
    "                                for s8 in [-1,1]:\n",
    "                                    for s9 in [-1,1]:\n",
    "                                        tmp = eyey_matrix(s1,s2,s3,s4,s5,s6,s7,s8,s9)\n",
    "                                        numer += tmp*np.exp(-H3x3_numeric(beta_,h_, kx_,ky_,kz_, \n",
    "                                                                          s1,s2,s3,s4,s5,s6,s7,s8,s9))\n",
    "                                        denom += np.exp(-H3x3_numeric(beta_,h_, kx_,ky_,kz_, \n",
    "                                                                      s1,s2,s3,s4,s5,s6,s7,s8,s9))    \n",
    "    res = numer/denom\n",
    "    return res"
   ]
  },
  {
   "cell_type": "code",
   "execution_count": 70,
   "id": "a965d9c6",
   "metadata": {},
   "outputs": [],
   "source": [
    "def eyez_corr_numeric(beta_,h_, kx_,ky_,kz_):\n",
    "\n",
    "    numer=eyez_matrix(0.,0.,0.,0.,0.,0.,0.,0.,0.)\n",
    "    denom=0.0\n",
    "    \n",
    "    for s1 in [-1,1]:\n",
    "        for s2 in [-1,1]:\n",
    "            for s3 in [-1,1]:\n",
    "                for s4 in [-1,1]:\n",
    "                    for s5 in [-1,1]:\n",
    "                        for s6 in [-1,1]:\n",
    "                            for s7 in [-1,1]:\n",
    "                                for s8 in [-1,1]:\n",
    "                                    for s9 in [-1,1]:\n",
    "                                        tmp = eyez_matrix(s1,s2,s3,s4,s5,s6,s7,s8,s9)\n",
    "                                        numer += tmp*np.exp(-H3x3_numeric(beta_,h_, kx_,ky_,kz_, \n",
    "                                                                          s1,s2,s3,s4,s5,s6,s7,s8,s9))\n",
    "                                        denom += np.exp(-H3x3_numeric(beta_,h_, kx_,ky_,kz_, \n",
    "                                                                      s1,s2,s3,s4,s5,s6,s7,s8,s9))    \n",
    "    res = numer/denom\n",
    "    return res"
   ]
  },
  {
   "cell_type": "code",
   "execution_count": 71,
   "id": "74fd1962",
   "metadata": {},
   "outputs": [],
   "source": [
    "def ezez_corr_numeric(beta_,h_, kx_,ky_,kz_):\n",
    "\n",
    "    numer=ezez_matrix(0.,0.,0.,0.,0.,0.,0.,0.,0.)\n",
    "    denom=0.0\n",
    "    \n",
    "    for s1 in [-1,1]:\n",
    "        for s2 in [-1,1]:\n",
    "            for s3 in [-1,1]:\n",
    "                for s4 in [-1,1]:\n",
    "                    for s5 in [-1,1]:\n",
    "                        for s6 in [-1,1]:\n",
    "                            for s7 in [-1,1]:\n",
    "                                for s8 in [-1,1]:\n",
    "                                    for s9 in [-1,1]:\n",
    "                                        tmp = ezez_matrix(s1,s2,s3,s4,s5,s6,s7,s8,s9)\n",
    "                                        numer += tmp*np.exp(-H3x3_numeric(beta_,h_, kx_,ky_,kz_, \n",
    "                                                                          s1,s2,s3,s4,s5,s6,s7,s8,s9))\n",
    "                                        denom += np.exp(-H3x3_numeric(beta_,h_, kx_,ky_,kz_, \n",
    "                                                                      s1,s2,s3,s4,s5,s6,s7,s8,s9))    \n",
    "    res = numer/denom\n",
    "    return res"
   ]
  },
  {
   "cell_type": "code",
   "execution_count": null,
   "id": "423f9b45",
   "metadata": {},
   "outputs": [],
   "source": []
  },
  {
   "cell_type": "code",
   "execution_count": 72,
   "id": "2cad631a",
   "metadata": {},
   "outputs": [],
   "source": [
    "beta=0.0746531\n",
    "h=0.\n",
    "\n",
    "kx=1.2\n",
    "ky=1.5\n",
    "kz=0.3\n",
    "\n",
    "# kx=1.0\n",
    "# ky=1.0\n",
    "# kz=1.0"
   ]
  },
  {
   "cell_type": "code",
   "execution_count": null,
   "id": "9e310733",
   "metadata": {},
   "outputs": [],
   "source": []
  },
  {
   "cell_type": "code",
   "execution_count": 124,
   "id": "edf93a6f",
   "metadata": {},
   "outputs": [],
   "source": [
    "nin=0\n",
    "nfin=10\n",
    "nint=1\n",
    "binsize=1"
   ]
  },
  {
   "cell_type": "code",
   "execution_count": 125,
   "id": "b131084b",
   "metadata": {},
   "outputs": [],
   "source": [
    "mag_=[]\n",
    "\n",
    "for n in range(nin,nfin,nint):\n",
    "    dat=np.loadtxt(\"./obs/mag/\"+str(n)+\".dat\")\n",
    "    mag_.append(dat)\n",
    "    \n",
    "mag=np.array(mag_)"
   ]
  },
  {
   "cell_type": "code",
   "execution_count": 126,
   "id": "feebc03d",
   "metadata": {},
   "outputs": [],
   "source": [
    "jk_mag = Jackknife(mag.size, binsize)\n",
    "jk_mag.set(simple_mean, mag)\n",
    "jk_mag.do_it()"
   ]
  },
  {
   "cell_type": "code",
   "execution_count": 127,
   "id": "336890e7",
   "metadata": {},
   "outputs": [
    {
     "name": "stdout",
     "output_type": "stream",
     "text": [
      "mag_per_site\n"
     ]
    },
    {
     "data": {
      "text/plain": [
       "'1.2(23) exact:0.00 [0.51 sigma]'"
      ]
     },
     "execution_count": 127,
     "metadata": {},
     "output_type": "execute_result"
    }
   ],
   "source": [
    "print(\"mag_per_site\")\n",
    "format_print_w_exact(0.0, jk_mag.mean(), jk_mag.err())"
   ]
  },
  {
   "cell_type": "code",
   "execution_count": 128,
   "id": "22b1ea8b",
   "metadata": {},
   "outputs": [
    {
     "data": {
      "text/plain": [
       "1.2"
      ]
     },
     "execution_count": 128,
     "metadata": {},
     "output_type": "execute_result"
    }
   ],
   "source": [
    "jk_mag.mean()"
   ]
  },
  {
   "cell_type": "code",
   "execution_count": 129,
   "id": "4da7d61c",
   "metadata": {},
   "outputs": [],
   "source": [
    "# delta=1.0e-3\n",
    "# h=1.0\n",
    "\n",
    "# print(\"mag\")\n",
    "# numeric=(np.log(Z3x3_numeric(beta, h+delta, kx,ky,kz))-np.log(Z3x3_numeric(beta, h-delta, kx,ky,kz)))/(2.0*delta)/9.0\n",
    "# exact=mag_per_site3x3_numeric(beta,h, kx,ky,kz)\n",
    "# print(format_print_w_exact(exact, numeric, delta**2))"
   ]
  },
  {
   "cell_type": "code",
   "execution_count": 130,
   "id": "83d3feec",
   "metadata": {},
   "outputs": [],
   "source": [
    "h=0.0"
   ]
  },
  {
   "cell_type": "code",
   "execution_count": 133,
   "id": "4abdb058",
   "metadata": {},
   "outputs": [
    {
     "data": {
      "text/plain": [
       "array([  6.,   8.,   6.,  10.,   2.,  -2.,   0.,  -2.,   0., -16.])"
      ]
     },
     "execution_count": 133,
     "metadata": {},
     "output_type": "execute_result"
    }
   ],
   "source": [
    "mag"
   ]
  },
  {
   "cell_type": "code",
   "execution_count": 134,
   "id": "5f36db46",
   "metadata": {},
   "outputs": [
    {
     "data": {
      "text/plain": [
       "array([ 36.,  64.,  36., 100.,   4.,   4.,   0.,   4.,   0., 256.])"
      ]
     },
     "execution_count": 134,
     "metadata": {},
     "output_type": "execute_result"
    }
   ],
   "source": [
    "mag*mag"
   ]
  },
  {
   "cell_type": "code",
   "execution_count": null,
   "id": "7f29814f",
   "metadata": {},
   "outputs": [],
   "source": []
  },
  {
   "cell_type": "code",
   "execution_count": null,
   "id": "7584b710",
   "metadata": {},
   "outputs": [],
   "source": []
  },
  {
   "cell_type": "code",
   "execution_count": 131,
   "id": "2098b66c",
   "metadata": {},
   "outputs": [
    {
     "data": {
      "text/plain": [
       "1.575"
      ]
     },
     "execution_count": 131,
     "metadata": {},
     "output_type": "execute_result"
    }
   ],
   "source": [
    "np.mean(mag**2/32)"
   ]
  },
  {
   "cell_type": "code",
   "execution_count": 132,
   "id": "1ecaa049",
   "metadata": {},
   "outputs": [],
   "source": [
    "jk_magsq = Jackknife(mag.size, binsize)\n",
    "jk_magsq.set(simple_mean, mag**2/32)\n",
    "jk_magsq.do_it()"
   ]
  },
  {
   "cell_type": "code",
   "execution_count": 118,
   "id": "e6ccdcca",
   "metadata": {},
   "outputs": [],
   "source": [
    "# print(\"susc\")\n",
    "# numeric=(mag_per_site3x3_numeric(beta,h+delta, kx,ky,kz)-mag_per_site3x3_numeric(beta,h-delta, kx,ky,kz))/(2.0*delta)\n",
    "# format_print(numeric, jk_magsq.mean(), jk_magsq.err())"
   ]
  },
  {
   "cell_type": "code",
   "execution_count": 119,
   "id": "a4f1020e",
   "metadata": {},
   "outputs": [
    {
     "name": "stdout",
     "output_type": "stream",
     "text": [
      "susc\n"
     ]
    },
    {
     "data": {
      "text/plain": [
       "'1.57(79)'"
      ]
     },
     "execution_count": 119,
     "metadata": {},
     "output_type": "execute_result"
    }
   ],
   "source": [
    "print(\"susc\")\n",
    "format_print(jk_magsq.mean(), jk_magsq.err())"
   ]
  },
  {
   "cell_type": "code",
   "execution_count": 104,
   "id": "eb679e32",
   "metadata": {},
   "outputs": [
    {
     "data": {
      "text/plain": [
       "1.5749999999999997"
      ]
     },
     "execution_count": 104,
     "metadata": {},
     "output_type": "execute_result"
    }
   ],
   "source": [
    "jk_magsq.mean()"
   ]
  },
  {
   "cell_type": "code",
   "execution_count": null,
   "id": "820c1ae4",
   "metadata": {},
   "outputs": [],
   "source": []
  },
  {
   "cell_type": "code",
   "execution_count": 105,
   "id": "b1d59750",
   "metadata": {},
   "outputs": [],
   "source": [
    "# delta=1.0e-3\n",
    "# print(\"mag\")\n",
    "# numeric=-(np.log(Z2x2(beta, h+delta, kx,ky,kz))-np.log(Z2x2(beta, h-delta, kx,ky,kz)))/(2.0*delta)/4.0\n",
    "# exact=mag_per_site2x2(beta,h, kx,ky,kz)\n",
    "# print(format_print_w_exact(exact, numeric, delta**2))\n",
    "# print(\"susc\")\n",
    "# numeric=-(mag_per_site2x2(beta,h+delta, kx,ky,kz)-mag_per_site2x2(beta,h-delta, kx,ky,kz))/(2.0*delta)\n",
    "# exact=susc2x2(beta,h, kx,ky,kz)\n",
    "# print(format_print_w_exact(exact, numeric, delta**2))"
   ]
  },
  {
   "cell_type": "code",
   "execution_count": null,
   "id": "7546199a",
   "metadata": {},
   "outputs": [],
   "source": []
  },
  {
   "cell_type": "code",
   "execution_count": 106,
   "id": "4d427fdb",
   "metadata": {},
   "outputs": [
    {
     "name": "stdout",
     "output_type": "stream",
     "text": [
      "[['1.0 exact:1.0' '0.013(31) exact:0.1089 [3.14 sigma]'\n",
      "  '-0.175(71) exact:0.1089 [3.98 sigma]']\n",
      " ['0.163(48) exact:0.1333 [0.61 sigma]'\n",
      "  '-0.062(49) exact:0.0532 [2.36 sigma]'\n",
      "  '-0.013(57) exact:0.0387 [0.90 sigma]']\n",
      " ['-0.087(56) exact:0.1333 [3.97 sigma]'\n",
      "  '0.062(56) exact:0.0387 [0.42 sigma]'\n",
      "  '-0.050(45) exact:0.0532 [2.31 sigma]']]\n"
     ]
    }
   ],
   "source": [
    "ss_=[]\n",
    "\n",
    "for n in range(nin,nfin,nint):\n",
    "    dat=np.loadtxt(\"./obs/ss/\"+str(n)+\".dat\")\n",
    "    ss_.append(dat)\n",
    "    \n",
    "ss=np.array(ss_)\n",
    "\n",
    "jk_ss = Jackknife(ss.size, binsize)\n",
    "jk_ss.set(simple_mean, ss)\n",
    "jk_ss.do_it()\n",
    "\n",
    "print(format_print_w_exact_matrix(ss_corr_numeric(beta, h, kx,ky,kz), jk_ss.mean(), jk_ss.err()))"
   ]
  },
  {
   "cell_type": "code",
   "execution_count": 107,
   "id": "57f2c0d4",
   "metadata": {},
   "outputs": [
    {
     "data": {
      "text/plain": [
       "array([[ 1.    ,  0.0125, -0.175 ,  0.0125],\n",
       "       [ 0.1625, -0.0625, -0.0125,  0.15  ],\n",
       "       [-0.0875,  0.0625, -0.05  ,  0.075 ],\n",
       "       [ 0.05  , -0.1625,  0.    ,  0.1875],\n",
       "       [-0.025 , -0.0375,  0.2   , -0.0375],\n",
       "       [ 0.05  ,  0.1875,  0.    , -0.1625],\n",
       "       [-0.0875,  0.075 , -0.05  ,  0.0625],\n",
       "       [ 0.1625,  0.15  , -0.0125, -0.0625]])"
      ]
     },
     "execution_count": 107,
     "metadata": {},
     "output_type": "execute_result"
    }
   ],
   "source": [
    "jk_ss.mean()"
   ]
  },
  {
   "cell_type": "code",
   "execution_count": 108,
   "id": "f3486b08",
   "metadata": {},
   "outputs": [
    {
     "name": "stdout",
     "output_type": "stream",
     "text": [
      "[['1.0 exact:1.0' '-0.175(71) exact:0.1089 [3.98 sigma]'\n",
      "  '0.000(68) exact:0.1089 [1.60 sigma]']\n",
      " ['-0.113(69) exact:0.0281 [2.03 sigma]'\n",
      "  '0.225(33) exact:0.0167 [6.35 sigma]'\n",
      "  '-0.113(41) exact:0.0181 [3.16 sigma]']\n",
      " ['0.138(50) exact:0.0281 [2.20 sigma]'\n",
      "  '-0.188(35) exact:0.0181 [5.81 sigma]'\n",
      "  '0.062(60) exact:0.0167 [0.77 sigma]']]\n"
     ]
    }
   ],
   "source": [
    "exex_=[]\n",
    "\n",
    "for n in range(nin,nfin,nint):\n",
    "    dat=np.loadtxt(\"./obs/exex/\"+str(n)+\".dat\")\n",
    "    exex_.append(dat)\n",
    "    \n",
    "exex=np.array(exex_)\n",
    "\n",
    "jk_exex = Jackknife(exex.size, binsize)\n",
    "jk_exex.set(simple_mean, exex)\n",
    "jk_exex.do_it()\n",
    "\n",
    "print(format_print_w_exact_matrix(exex_corr_numeric(beta, h, kx,ky,kz), jk_exex.mean(), jk_exex.err()))"
   ]
  },
  {
   "cell_type": "code",
   "execution_count": 109,
   "id": "2d0a1123",
   "metadata": {},
   "outputs": [
    {
     "data": {
      "text/plain": [
       "array([[ 1.    , -0.175 ,  0.    , -0.175 ],\n",
       "       [-0.1125,  0.225 , -0.1125,  0.    ],\n",
       "       [ 0.1375, -0.1875,  0.0625, -0.0625],\n",
       "       [-0.025 ,  0.025 , -0.1   ,  0.1   ],\n",
       "       [ 0.15  , -0.175 , -0.1   , -0.175 ],\n",
       "       [-0.025 ,  0.1   , -0.1   ,  0.025 ],\n",
       "       [ 0.1375, -0.0625,  0.0625, -0.1875],\n",
       "       [-0.1125,  0.    , -0.1125,  0.225 ]])"
      ]
     },
     "execution_count": 109,
     "metadata": {},
     "output_type": "execute_result"
    }
   ],
   "source": [
    "jk_exex.mean()"
   ]
  },
  {
   "cell_type": "code",
   "execution_count": 96,
   "id": "59b4dacc",
   "metadata": {},
   "outputs": [
    {
     "name": "stdout",
     "output_type": "stream",
     "text": [
      "[['0.150(18) exact:0.0387 [6.35 sigma]'\n",
      "  '-0.062(49) exact:0.0532 [2.36 sigma]'\n",
      "  '0.113(24) exact:0.0199 [3.92 sigma]']\n",
      " ['0.075(40) exact:0.0209 [1.34 sigma]'\n",
      "  '0.100(67) exact:0.0209 [1.17 sigma]'\n",
      "  '-0.188(49) exact:0.0170 [4.17 sigma]']\n",
      " ['0.100(26) exact:0.0532 [1.78 sigma]'\n",
      "  '-0.062(29) exact:0.0387 [3.44 sigma]'\n",
      "  '0.100(55) exact:0.0199 [1.46 sigma]']]\n"
     ]
    }
   ],
   "source": [
    "exey_=[]\n",
    "\n",
    "for n in range(nin,nfin,nint):\n",
    "    dat=np.loadtxt(\"./obs/exey/\"+str(n)+\".dat\")\n",
    "    exey_.append(dat)\n",
    "    \n",
    "exey=np.array(exey_)\n",
    "\n",
    "jk_exey = Jackknife(exey.size, binsize)\n",
    "jk_exey.set(simple_mean, exey)\n",
    "jk_exey.do_it()\n",
    "\n",
    "print(format_print_w_exact_matrix(exey_corr_numeric(beta, h, kx,ky,kz), jk_exey.mean(), jk_exey.err()))"
   ]
  },
  {
   "cell_type": "code",
   "execution_count": 97,
   "id": "7bc0f145",
   "metadata": {},
   "outputs": [
    {
     "name": "stdout",
     "output_type": "stream",
     "text": [
      "[['0.163(48) exact:0.1333 [0.61 sigma]'\n",
      "  '-0.013(57) exact:0.0387 [0.90 sigma]'\n",
      "  '-0.075(40) exact:0.0199 [2.36 sigma]']\n",
      " ['-0.013(36) exact:0.0226 [0.96 sigma]'\n",
      "  '0.188(35) exact:0.0127 [4.94 sigma]'\n",
      "  '0.050(53) exact:0.0127 [0.71 sigma]']\n",
      " ['0.175(59) exact:0.1333 [0.70 sigma]'\n",
      "  '-0.013(46) exact:0.0199 [0.71 sigma]'\n",
      "  '0.050(45) exact:0.0387 [0.25 sigma]']]\n"
     ]
    }
   ],
   "source": [
    "exez_=[]\n",
    "\n",
    "for n in range(nin,nfin,nint):\n",
    "    dat=np.loadtxt(\"./obs/exez/\"+str(n)+\".dat\")\n",
    "    exez_.append(dat)\n",
    "    \n",
    "exez=np.array(exez_)\n",
    "\n",
    "jk_exez = Jackknife(exez.size, binsize)\n",
    "jk_exez.set(simple_mean, exez)\n",
    "jk_exez.do_it()\n",
    "\n",
    "print(format_print_w_exact_matrix(exez_corr_numeric(beta, h, kx,ky,kz), jk_exez.mean(), jk_exez.err()))"
   ]
  },
  {
   "cell_type": "code",
   "execution_count": 98,
   "id": "a20c67d1",
   "metadata": {},
   "outputs": [
    {
     "name": "stdout",
     "output_type": "stream",
     "text": [
      "[['1.0 exact:1.0' '-0.113(69) exact:0.0281 [2.03 sigma]'\n",
      "  '0.000(55) exact:0.0281 [0.51 sigma]']\n",
      " ['-0.087(56) exact:0.1333 [3.97 sigma]'\n",
      "  '-0.025(51) exact:0.0216 [0.91 sigma]'\n",
      "  '-0.075(45) exact:0.0226 [2.18 sigma]']\n",
      " ['0.163(56) exact:0.1333 [0.52 sigma]'\n",
      "  '0.250(52) exact:0.0226 [4.38 sigma]'\n",
      "  '-0.087(56) exact:0.0216 [1.96 sigma]']]\n"
     ]
    }
   ],
   "source": [
    "eyey_=[]\n",
    "\n",
    "for n in range(nin,nfin,nint):\n",
    "    dat=np.loadtxt(\"./obs/eyey/\"+str(n)+\".dat\")\n",
    "    eyey_.append(dat)\n",
    "    \n",
    "eyey=np.array(eyey_)\n",
    "\n",
    "jk_eyey = Jackknife(eyey.size, binsize)\n",
    "jk_eyey.set(simple_mean, eyey)\n",
    "jk_eyey.do_it()\n",
    "\n",
    "print(format_print_w_exact_matrix(eyey_corr_numeric(beta, h, kx,ky,kz), jk_eyey.mean(), jk_eyey.err()))"
   ]
  },
  {
   "cell_type": "code",
   "execution_count": 99,
   "id": "563395af",
   "metadata": {},
   "outputs": [
    {
     "name": "stdout",
     "output_type": "stream",
     "text": [
      "[['0.013(31) exact:0.1089 [3.14 sigma]'\n",
      "  '-0.025(70) exact:0.0181 [0.61 sigma]'\n",
      "  '-0.150(26) exact:0.1089 [9.84 sigma]']\n",
      " ['0.062(56) exact:0.0387 [0.42 sigma]'\n",
      "  '-0.013(31) exact:0.0127 [0.82 sigma]'\n",
      "  '-0.113(63) exact:0.0209 [2.11 sigma]']\n",
      " ['0.075(56) exact:0.0209 [0.96 sigma]'\n",
      "  '-0.025(58) exact:0.0127 [0.65 sigma]'\n",
      "  '-0.050(53) exact:0.0387 [1.69 sigma]']]\n"
     ]
    }
   ],
   "source": [
    "eyez_=[]\n",
    "\n",
    "for n in range(nin,nfin,nint):\n",
    "    dat=np.loadtxt(\"./obs/eyez/\"+str(n)+\".dat\")\n",
    "    eyez_.append(dat)\n",
    "    \n",
    "eyez=np.array(eyez_)\n",
    "\n",
    "jk_eyez = Jackknife(eyez.size, binsize)\n",
    "jk_eyez.set(simple_mean, eyez)\n",
    "jk_eyez.do_it()\n",
    "\n",
    "print(format_print_w_exact_matrix(eyez_corr_numeric(beta, h, kx,ky,kz), jk_eyez.mean(), jk_eyez.err()))"
   ]
  },
  {
   "cell_type": "code",
   "execution_count": 100,
   "id": "26dca828",
   "metadata": {},
   "outputs": [
    {
     "name": "stdout",
     "output_type": "stream",
     "text": [
      "[['1.0 exact:1.0' '0.225(33) exact:0.0167 [6.35 sigma]'\n",
      "  '-0.025(61) exact:0.0167 [0.68 sigma]']\n",
      " ['-0.025(51) exact:0.0216 [0.91 sigma]'\n",
      "  '-0.050(45) exact:0.0532 [2.31 sigma]'\n",
      "  '-0.113(24) exact:0.0170 [5.48 sigma]']\n",
      " ['-0.013(57) exact:0.0216 [0.60 sigma]'\n",
      "  '-0.113(50) exact:0.0170 [2.60 sigma]'\n",
      "  '-0.025(51) exact:0.0532 [1.53 sigma]']]\n"
     ]
    }
   ],
   "source": [
    "ezez_=[]\n",
    "\n",
    "for n in range(nin,nfin,nint):\n",
    "    dat=np.loadtxt(\"./obs/ezez/\"+str(n)+\".dat\")\n",
    "    ezez_.append(dat)\n",
    "    \n",
    "ezez=np.array(ezez_)\n",
    "\n",
    "jk_ezez = Jackknife(ezez.size, binsize)\n",
    "jk_ezez.set(simple_mean, ezez)\n",
    "jk_ezez.do_it()\n",
    "\n",
    "print(format_print_w_exact_matrix(ezez_corr_numeric(beta, h, kx,ky,kz), jk_ezez.mean(), jk_ezez.err()))"
   ]
  },
  {
   "cell_type": "code",
   "execution_count": null,
   "id": "2a02ede6",
   "metadata": {},
   "outputs": [],
   "source": []
  },
  {
   "cell_type": "code",
   "execution_count": null,
   "id": "ac9ed14d",
   "metadata": {},
   "outputs": [],
   "source": []
  },
  {
   "cell_type": "code",
   "execution_count": null,
   "id": "586101e1",
   "metadata": {},
   "outputs": [],
   "source": []
  }
 ],
 "metadata": {
  "kernelspec": {
   "display_name": "Python 3 (ipykernel)",
   "language": "python",
   "name": "python3"
  },
  "language_info": {
   "codemirror_mode": {
    "name": "ipython",
    "version": 3
   },
   "file_extension": ".py",
   "mimetype": "text/x-python",
   "name": "python",
   "nbconvert_exporter": "python",
   "pygments_lexer": "ipython3",
   "version": "3.9.12"
  }
 },
 "nbformat": 4,
 "nbformat_minor": 5
}
