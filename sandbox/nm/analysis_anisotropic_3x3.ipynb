{
 "cells": [
  {
   "cell_type": "code",
   "execution_count": 1,
   "id": "8a14a82e",
   "metadata": {},
   "outputs": [],
   "source": [
    "import numpy as np\n",
    "import matplotlib.pyplot as plt"
   ]
  },
  {
   "cell_type": "code",
   "execution_count": 2,
   "id": "ccf7342b",
   "metadata": {},
   "outputs": [],
   "source": [
    "class Jackknife:\n",
    "    def __init__( self, len_data, binsize ):\n",
    "        self.binsize = binsize\n",
    "        self.nbins = int(len_data/self.binsize)\n",
    "        self.N = self.binsize * self.nbins\n",
    "        self.jack_avg = []\n",
    "        self.est = 0\n",
    "        self.var_est = 0\n",
    "\n",
    "    def set( self, func, list_of_data ):\n",
    "        for i in range( self.nbins ):\n",
    "            self.jack_avg.append( func( i, self.binsize, list_of_data ) )\n",
    "\n",
    "    def do_it( self ):\n",
    "        for i in range( 0, self.nbins ):\n",
    "            self.est += self.jack_avg[i]\n",
    "        self.est /= self.nbins\n",
    "\n",
    "        for i in range( 0, self.nbins ):\n",
    "            self.var_est += ( self.jack_avg[i] - self.est )**2\n",
    "        self.var_est /= self.nbins\n",
    "        self.var_est *= self.nbins -1\n",
    "\n",
    "    def mean( self ):\n",
    "        return self.est\n",
    "\n",
    "    def var( self ):\n",
    "        return self.var_est\n",
    "\n",
    "    def err( self ):\n",
    "        return np.sqrt(self.var_est)\n",
    "\n",
    "def simple_mean(i, binsize, np_data):\n",
    "    resmpld = np.delete(np_data, np.s_[i*binsize:(i+1)*binsize], axis=0)\n",
    "    return np.mean(resmpld, axis=0)\n",
    "\n",
    "def format_print(cen, err):\n",
    "    for i in range(-50, 50):\n",
    "        if 10**(-i+1)>=err>10**(-i):\n",
    "            tmp=err*10**(i+1)\n",
    "            return '{num:.{width}f}'.format(num=cen, width=i+1)+'('+str(round(tmp))+')'\n",
    "\n",
    "def format_print_w_exact(exact, cen, err):\n",
    "    if np.abs(err)<1.0e-15:\n",
    "        return str(cen)+\" exact:\"+str(exact)\n",
    "    for i in range(-50, 50):\n",
    "        if 10**(-i+1)>=err>10**(-i):\n",
    "            tmp=err*10**(i+1)\n",
    "            return '{num:.{width}f}'.format(num=cen, width=i+1)+'('+str(round(tmp))+')'+' exact:'+'{ex:.{width}f}'.format(ex=exact, width=i+2)+' ['+'{num:.{width}f}'.format(num=abs(exact-cen)/err, width=2)+' sigma]'"
   ]
  },
  {
   "cell_type": "code",
   "execution_count": 3,
   "id": "0595f0a2",
   "metadata": {},
   "outputs": [],
   "source": [
    "def format_print_w_exact_matrix(exact, cen, err):\n",
    "    shape=exact.shape\n",
    "    res=np.full(shape, \"\", dtype=object)\n",
    "\n",
    "    for i in np.arange(shape[0]):\n",
    "        for j in np.arange(shape[1]):\n",
    "            res[i,j]=format_print_w_exact(exact[i,j], cen[i,j], err[i,j])\n",
    "            \n",
    "    return np.array(res)"
   ]
  },
  {
   "cell_type": "code",
   "execution_count": 4,
   "id": "b6ba35a6",
   "metadata": {},
   "outputs": [],
   "source": [
    "def H3x3_numeric(beta_,h_, kx_,ky_,kz_, s1,s2,s3,s4,s5,s6,s7,s8,s9):\n",
    "    res = 0.0\n",
    "    res += kx_*s1*s2\n",
    "    res += kx_*s2*s3\n",
    "    res += kx_*s3*s1\n",
    "    res += kx_*s4*s5\n",
    "    res += kx_*s5*s6\n",
    "    res += kx_*s6*s4\n",
    "    res += kx_*s7*s8\n",
    "    res += kx_*s8*s9\n",
    "    res += kx_*s9*s7\n",
    "    #\n",
    "    res += ky_*s1*s4\n",
    "    res += ky_*s2*s5\n",
    "    res += ky_*s3*s6\n",
    "    res += ky_*s4*s7\n",
    "    res += ky_*s5*s8\n",
    "    res += ky_*s6*s9\n",
    "    res += ky_*s7*s1\n",
    "    res += ky_*s8*s2\n",
    "    res += ky_*s9*s3\n",
    "    #\n",
    "    res += kz_*s1*s5\n",
    "    res += kz_*s2*s6\n",
    "    res += kz_*s3*s4\n",
    "    res += kz_*s4*s8\n",
    "    res += kz_*s5*s9\n",
    "    res += kz_*s6*s7\n",
    "    res += kz_*s7*s2\n",
    "    res += kz_*s8*s3\n",
    "    res += kz_*s9*s1\n",
    "    \n",
    "    res *= -beta_\n",
    "    res -= h_*(s1+s2+s3+s4+s5+s6+s7+s8+s9)\n",
    "    \n",
    "    return res"
   ]
  },
  {
   "cell_type": "code",
   "execution_count": 5,
   "id": "8ab4ac26",
   "metadata": {},
   "outputs": [],
   "source": [
    "def Z3x3_numeric(beta_,h_, kx_,ky_,kz_):\n",
    "    res=0.0\n",
    "    for s1 in [-1,1]:\n",
    "        for s2 in [-1,1]:\n",
    "            for s3 in [-1,1]:\n",
    "                for s4 in [-1,1]:\n",
    "                    for s5 in [-1,1]:\n",
    "                        for s6 in [-1,1]:\n",
    "                            for s7 in [-1,1]:\n",
    "                                for s8 in [-1,1]:\n",
    "                                    for s9 in [-1,1]:\n",
    "                                        res += np.exp(-H3x3_numeric(beta_,h_, kx_,ky_,kz_, \n",
    "                                                                    s1,s2,s3,s4,s5,s6,s7,s8,s9))\n",
    "    return res"
   ]
  },
  {
   "cell_type": "code",
   "execution_count": 6,
   "id": "ac5253c1",
   "metadata": {},
   "outputs": [],
   "source": [
    "def mag_per_site3x3_numeric(beta_,h_, kx_,ky_,kz_):\n",
    "    numer=0.0\n",
    "    denom=0.0\n",
    "    for s1 in [-1,1]:\n",
    "        for s2 in [-1,1]:\n",
    "            for s3 in [-1,1]:\n",
    "                for s4 in [-1,1]:\n",
    "                    for s5 in [-1,1]:\n",
    "                        for s6 in [-1,1]:\n",
    "                            for s7 in [-1,1]:\n",
    "                                for s8 in [-1,1]:\n",
    "                                    for s9 in [-1,1]:\n",
    "                                        numer += (s1+s2+s3+s4+s5+s6+s7+s8+s9)*np.exp(-H3x3_numeric(beta_,h_, kx_,ky_,kz_, \n",
    "                                                                                     s1,s2,s3,s4,s5,s6,s7,s8,s9))\n",
    "                                        denom += np.exp(-H3x3_numeric(beta_,h_, kx_,ky_,kz_, \n",
    "                                                                      s1,s2,s3,s4,s5,s6,s7,s8,s9))\n",
    "    res = numer/denom/9.0\n",
    "    return res"
   ]
  },
  {
   "cell_type": "code",
   "execution_count": 7,
   "id": "80d607e0",
   "metadata": {},
   "outputs": [],
   "source": [
    "def ss_matrix(s1,s2,s3,s4,s5,s6,s7,s8,s9):\n",
    "    mat=np.array([\n",
    "        [s1*s1, s1*s2, s1*s3],\n",
    "        [s1*s4, s1*s5, s1*s6],\n",
    "        [s1*s7, s1*s8, s1*s9]\n",
    "    ])\n",
    "    return mat"
   ]
  },
  {
   "cell_type": "code",
   "execution_count": 8,
   "id": "746f27ae",
   "metadata": {},
   "outputs": [],
   "source": [
    "def exex_matrix(s1,s2,s3,s4,s5,s6,s7,s8,s9):\n",
    "    ex=np.array([\n",
    "        [s1*s2, s2*s3, s3*s1],\n",
    "        [s4*s5, s5*s6, s6*s4],\n",
    "        [s7*s8, s8*s9, s9*s7]\n",
    "    ])\n",
    "    mat=np.array([\n",
    "        [ex[0,0]*ex[0,0], ex[0,0]*ex[0,1], ex[0,0]*ex[0,2]],\n",
    "        [ex[0,0]*ex[1,0], ex[0,0]*ex[1,1], ex[0,0]*ex[1,2]],\n",
    "        [ex[0,0]*ex[2,0], ex[0,0]*ex[2,1], ex[0,0]*ex[2,2]]\n",
    "    ])\n",
    "    return mat"
   ]
  },
  {
   "cell_type": "code",
   "execution_count": 9,
   "id": "9785a874",
   "metadata": {},
   "outputs": [],
   "source": [
    "def exey_matrix(s1,s2,s3,s4,s5,s6,s7,s8,s9):\n",
    "    ex=np.array([\n",
    "        [s1*s2, s2*s3, s3*s1],\n",
    "        [s4*s5, s5*s6, s6*s4],\n",
    "        [s7*s8, s8*s9, s9*s7]\n",
    "    ])\n",
    "    ey=np.array([\n",
    "        [s1*s4, s2*s5, s3*s6],\n",
    "        [s4*s7, s5*s8, s6*s9],\n",
    "        [s7*s1, s8*s2, s9*s3]\n",
    "    ])\n",
    "    mat=np.array([\n",
    "        [ex[0,0]*ey[0,0], ex[0,0]*ey[0,1], ex[0,0]*ey[0,2]],\n",
    "        [ex[0,0]*ey[1,0], ex[0,0]*ey[1,1], ex[0,0]*ey[1,2]],\n",
    "        [ex[0,0]*ey[2,0], ex[0,0]*ey[2,1], ex[0,0]*ey[2,2]]\n",
    "    ])\n",
    "    return mat"
   ]
  },
  {
   "cell_type": "code",
   "execution_count": 10,
   "id": "949d0897",
   "metadata": {},
   "outputs": [],
   "source": [
    "def exez_matrix(s1,s2,s3,s4,s5,s6,s7,s8,s9):\n",
    "    ex=np.array([\n",
    "        [s1*s2, s2*s3, s3*s1],\n",
    "        [s4*s5, s5*s6, s6*s4],\n",
    "        [s7*s8, s8*s9, s9*s7]\n",
    "    ])\n",
    "    ez=np.array([\n",
    "        [s1*s5, s2*s6, s3*s4],\n",
    "        [s4*s8, s5*s9, s6*s7],\n",
    "        [s7*s2, s8*s3, s9*s1]\n",
    "    ])\n",
    "    mat=np.array([\n",
    "        [ex[0,0]*ez[0,0], ex[0,0]*ez[0,1], ex[0,0]*ez[0,2]],\n",
    "        [ex[0,0]*ez[1,0], ex[0,0]*ez[1,1], ex[0,0]*ez[1,2]],\n",
    "        [ex[0,0]*ez[2,0], ex[0,0]*ez[2,1], ex[0,0]*ez[2,2]]\n",
    "    ])\n",
    "    return mat"
   ]
  },
  {
   "cell_type": "code",
   "execution_count": 11,
   "id": "1a35a488",
   "metadata": {},
   "outputs": [],
   "source": [
    "def eyey_matrix(s1,s2,s3,s4,s5,s6,s7,s8,s9):\n",
    "    ey=np.array([\n",
    "        [s1*s4, s2*s5, s3*s6],\n",
    "        [s4*s7, s5*s8, s6*s9],\n",
    "        [s7*s1, s8*s2, s9*s3]\n",
    "    ])\n",
    "    mat=np.array([\n",
    "        [ey[0,0]*ey[0,0], ey[0,0]*ey[0,1], ey[0,0]*ey[0,2]],\n",
    "        [ey[0,0]*ey[1,0], ey[0,0]*ey[1,1], ey[0,0]*ey[1,2]],\n",
    "        [ey[0,0]*ey[2,0], ey[0,0]*ey[2,1], ey[0,0]*ey[2,2]]\n",
    "    ])\n",
    "    return mat"
   ]
  },
  {
   "cell_type": "code",
   "execution_count": 12,
   "id": "8023f320",
   "metadata": {},
   "outputs": [],
   "source": [
    "def eyez_matrix(s1,s2,s3,s4,s5,s6,s7,s8,s9):\n",
    "    ey=np.array([\n",
    "        [s1*s4, s2*s5, s3*s6],\n",
    "        [s4*s7, s5*s8, s6*s9],\n",
    "        [s7*s1, s8*s2, s9*s3]\n",
    "    ])\n",
    "    ez=np.array([\n",
    "        [s1*s5, s2*s6, s3*s4],\n",
    "        [s4*s8, s5*s9, s6*s7],\n",
    "        [s7*s2, s8*s3, s9*s1]\n",
    "    ])\n",
    "    mat=np.array([\n",
    "        [ey[0,0]*ez[0,0], ey[0,0]*ez[0,1], ey[0,0]*ez[0,2]],\n",
    "        [ey[0,0]*ez[1,0], ey[0,0]*ez[1,1], ey[0,0]*ez[1,2]],\n",
    "        [ey[0,0]*ez[2,0], ey[0,0]*ez[2,1], ey[0,0]*ez[2,2]]\n",
    "    ])\n",
    "    return mat"
   ]
  },
  {
   "cell_type": "code",
   "execution_count": 13,
   "id": "3095c075",
   "metadata": {},
   "outputs": [],
   "source": [
    "def ezez_matrix(s1,s2,s3,s4,s5,s6,s7,s8,s9):\n",
    "    ez=np.array([\n",
    "        [s1*s5, s2*s6, s3*s4],\n",
    "        [s4*s8, s5*s9, s6*s7],\n",
    "        [s7*s2, s8*s3, s9*s1]\n",
    "    ])\n",
    "    mat=np.array([\n",
    "        [ez[0,0]*ez[0,0], ez[0,0]*ez[0,1], ez[0,0]*ez[0,2]],\n",
    "        [ez[0,0]*ez[1,0], ez[0,0]*ez[1,1], ez[0,0]*ez[1,2]],\n",
    "        [ez[0,0]*ez[2,0], ez[0,0]*ez[2,1], ez[0,0]*ez[2,2]]\n",
    "    ])\n",
    "    return mat"
   ]
  },
  {
   "cell_type": "code",
   "execution_count": 14,
   "id": "e28ace45",
   "metadata": {},
   "outputs": [],
   "source": [
    "def ss_corr_numeric(beta_,h_, kx_,ky_,kz_):\n",
    "\n",
    "    numer=ss_matrix(0.,0.,0.,0.,0.,0.,0.,0.,0.)\n",
    "    denom=0.0\n",
    "    \n",
    "    for s1 in [-1,1]:\n",
    "        for s2 in [-1,1]:\n",
    "            for s3 in [-1,1]:\n",
    "                for s4 in [-1,1]:\n",
    "                    for s5 in [-1,1]:\n",
    "                        for s6 in [-1,1]:\n",
    "                            for s7 in [-1,1]:\n",
    "                                for s8 in [-1,1]:\n",
    "                                    for s9 in [-1,1]:\n",
    "                                        tmp = ss_matrix(s1,s2,s3,s4,s5,s6,s7,s8,s9)\n",
    "                                        numer += tmp*np.exp(-H3x3_numeric(beta_,h_, kx_,ky_,kz_, \n",
    "                                                                          s1,s2,s3,s4,s5,s6,s7,s8,s9))\n",
    "                                        denom += np.exp(-H3x3_numeric(beta_,h_, kx_,ky_,kz_, \n",
    "                                                                      s1,s2,s3,s4,s5,s6,s7,s8,s9))    \n",
    "    res = numer/denom\n",
    "    return res"
   ]
  },
  {
   "cell_type": "code",
   "execution_count": 15,
   "id": "71f35a05",
   "metadata": {},
   "outputs": [],
   "source": [
    "def exex_corr_numeric(beta_,h_, kx_,ky_,kz_):\n",
    "\n",
    "    numer=exex_matrix(0.,0.,0.,0.,0.,0.,0.,0.,0.)\n",
    "    denom=0.0\n",
    "    \n",
    "    for s1 in [-1,1]:\n",
    "        for s2 in [-1,1]:\n",
    "            for s3 in [-1,1]:\n",
    "                for s4 in [-1,1]:\n",
    "                    for s5 in [-1,1]:\n",
    "                        for s6 in [-1,1]:\n",
    "                            for s7 in [-1,1]:\n",
    "                                for s8 in [-1,1]:\n",
    "                                    for s9 in [-1,1]:\n",
    "                                        tmp = exex_matrix(s1,s2,s3,s4,s5,s6,s7,s8,s9)\n",
    "                                        numer += tmp*np.exp(-H3x3_numeric(beta_,h_, kx_,ky_,kz_, \n",
    "                                                                          s1,s2,s3,s4,s5,s6,s7,s8,s9))\n",
    "                                        denom += np.exp(-H3x3_numeric(beta_,h_, kx_,ky_,kz_, \n",
    "                                                                      s1,s2,s3,s4,s5,s6,s7,s8,s9))    \n",
    "    res = numer/denom\n",
    "    return res"
   ]
  },
  {
   "cell_type": "code",
   "execution_count": 16,
   "id": "661287b7",
   "metadata": {},
   "outputs": [],
   "source": [
    "def exey_corr_numeric(beta_,h_, kx_,ky_,kz_):\n",
    "\n",
    "    numer=exey_matrix(0.,0.,0.,0.,0.,0.,0.,0.,0.)\n",
    "    denom=0.0\n",
    "    \n",
    "    for s1 in [-1,1]:\n",
    "        for s2 in [-1,1]:\n",
    "            for s3 in [-1,1]:\n",
    "                for s4 in [-1,1]:\n",
    "                    for s5 in [-1,1]:\n",
    "                        for s6 in [-1,1]:\n",
    "                            for s7 in [-1,1]:\n",
    "                                for s8 in [-1,1]:\n",
    "                                    for s9 in [-1,1]:\n",
    "                                        tmp = exey_matrix(s1,s2,s3,s4,s5,s6,s7,s8,s9)\n",
    "                                        numer += tmp*np.exp(-H3x3_numeric(beta_,h_, kx_,ky_,kz_, \n",
    "                                                                          s1,s2,s3,s4,s5,s6,s7,s8,s9))\n",
    "                                        denom += np.exp(-H3x3_numeric(beta_,h_, kx_,ky_,kz_, \n",
    "                                                                      s1,s2,s3,s4,s5,s6,s7,s8,s9))    \n",
    "    res = numer/denom\n",
    "    return res"
   ]
  },
  {
   "cell_type": "code",
   "execution_count": 17,
   "id": "f31d9aa9",
   "metadata": {},
   "outputs": [],
   "source": [
    "def exez_corr_numeric(beta_,h_, kx_,ky_,kz_):\n",
    "\n",
    "    numer=exez_matrix(0.,0.,0.,0.,0.,0.,0.,0.,0.)\n",
    "    denom=0.0\n",
    "    \n",
    "    for s1 in [-1,1]:\n",
    "        for s2 in [-1,1]:\n",
    "            for s3 in [-1,1]:\n",
    "                for s4 in [-1,1]:\n",
    "                    for s5 in [-1,1]:\n",
    "                        for s6 in [-1,1]:\n",
    "                            for s7 in [-1,1]:\n",
    "                                for s8 in [-1,1]:\n",
    "                                    for s9 in [-1,1]:\n",
    "                                        tmp = exez_matrix(s1,s2,s3,s4,s5,s6,s7,s8,s9)\n",
    "                                        numer += tmp*np.exp(-H3x3_numeric(beta_,h_, kx_,ky_,kz_, \n",
    "                                                                          s1,s2,s3,s4,s5,s6,s7,s8,s9))\n",
    "                                        denom += np.exp(-H3x3_numeric(beta_,h_, kx_,ky_,kz_, \n",
    "                                                                      s1,s2,s3,s4,s5,s6,s7,s8,s9))    \n",
    "    res = numer/denom\n",
    "    return res"
   ]
  },
  {
   "cell_type": "code",
   "execution_count": 18,
   "id": "8c055c40",
   "metadata": {},
   "outputs": [],
   "source": [
    "def eyey_corr_numeric(beta_,h_, kx_,ky_,kz_):\n",
    "\n",
    "    numer=eyey_matrix(0.,0.,0.,0.,0.,0.,0.,0.,0.)\n",
    "    denom=0.0\n",
    "    \n",
    "    for s1 in [-1,1]:\n",
    "        for s2 in [-1,1]:\n",
    "            for s3 in [-1,1]:\n",
    "                for s4 in [-1,1]:\n",
    "                    for s5 in [-1,1]:\n",
    "                        for s6 in [-1,1]:\n",
    "                            for s7 in [-1,1]:\n",
    "                                for s8 in [-1,1]:\n",
    "                                    for s9 in [-1,1]:\n",
    "                                        tmp = eyey_matrix(s1,s2,s3,s4,s5,s6,s7,s8,s9)\n",
    "                                        numer += tmp*np.exp(-H3x3_numeric(beta_,h_, kx_,ky_,kz_, \n",
    "                                                                          s1,s2,s3,s4,s5,s6,s7,s8,s9))\n",
    "                                        denom += np.exp(-H3x3_numeric(beta_,h_, kx_,ky_,kz_, \n",
    "                                                                      s1,s2,s3,s4,s5,s6,s7,s8,s9))    \n",
    "    res = numer/denom\n",
    "    return res"
   ]
  },
  {
   "cell_type": "code",
   "execution_count": 19,
   "id": "a965d9c6",
   "metadata": {},
   "outputs": [],
   "source": [
    "def eyez_corr_numeric(beta_,h_, kx_,ky_,kz_):\n",
    "\n",
    "    numer=eyez_matrix(0.,0.,0.,0.,0.,0.,0.,0.,0.)\n",
    "    denom=0.0\n",
    "    \n",
    "    for s1 in [-1,1]:\n",
    "        for s2 in [-1,1]:\n",
    "            for s3 in [-1,1]:\n",
    "                for s4 in [-1,1]:\n",
    "                    for s5 in [-1,1]:\n",
    "                        for s6 in [-1,1]:\n",
    "                            for s7 in [-1,1]:\n",
    "                                for s8 in [-1,1]:\n",
    "                                    for s9 in [-1,1]:\n",
    "                                        tmp = eyez_matrix(s1,s2,s3,s4,s5,s6,s7,s8,s9)\n",
    "                                        numer += tmp*np.exp(-H3x3_numeric(beta_,h_, kx_,ky_,kz_, \n",
    "                                                                          s1,s2,s3,s4,s5,s6,s7,s8,s9))\n",
    "                                        denom += np.exp(-H3x3_numeric(beta_,h_, kx_,ky_,kz_, \n",
    "                                                                      s1,s2,s3,s4,s5,s6,s7,s8,s9))    \n",
    "    res = numer/denom\n",
    "    return res"
   ]
  },
  {
   "cell_type": "code",
   "execution_count": 20,
   "id": "74fd1962",
   "metadata": {},
   "outputs": [],
   "source": [
    "def ezez_corr_numeric(beta_,h_, kx_,ky_,kz_):\n",
    "\n",
    "    numer=ezez_matrix(0.,0.,0.,0.,0.,0.,0.,0.,0.)\n",
    "    denom=0.0\n",
    "    \n",
    "    for s1 in [-1,1]:\n",
    "        for s2 in [-1,1]:\n",
    "            for s3 in [-1,1]:\n",
    "                for s4 in [-1,1]:\n",
    "                    for s5 in [-1,1]:\n",
    "                        for s6 in [-1,1]:\n",
    "                            for s7 in [-1,1]:\n",
    "                                for s8 in [-1,1]:\n",
    "                                    for s9 in [-1,1]:\n",
    "                                        tmp = ezez_matrix(s1,s2,s3,s4,s5,s6,s7,s8,s9)\n",
    "                                        numer += tmp*np.exp(-H3x3_numeric(beta_,h_, kx_,ky_,kz_, \n",
    "                                                                          s1,s2,s3,s4,s5,s6,s7,s8,s9))\n",
    "                                        denom += np.exp(-H3x3_numeric(beta_,h_, kx_,ky_,kz_, \n",
    "                                                                      s1,s2,s3,s4,s5,s6,s7,s8,s9))    \n",
    "    res = numer/denom\n",
    "    return res"
   ]
  },
  {
   "cell_type": "code",
   "execution_count": null,
   "id": "423f9b45",
   "metadata": {},
   "outputs": [],
   "source": []
  },
  {
   "cell_type": "code",
   "execution_count": 21,
   "id": "2cad631a",
   "metadata": {},
   "outputs": [],
   "source": [
    "beta=0.0746531\n",
    "h=0.\n",
    "\n",
    "kx=1.2\n",
    "ky=1.5\n",
    "kz=0.3\n",
    "\n",
    "# kx=1.0\n",
    "# ky=1.0\n",
    "# kz=1.0"
   ]
  },
  {
   "cell_type": "code",
   "execution_count": null,
   "id": "9e310733",
   "metadata": {},
   "outputs": [],
   "source": []
  },
  {
   "cell_type": "code",
   "execution_count": 22,
   "id": "edf93a6f",
   "metadata": {},
   "outputs": [],
   "source": [
    "nin=1000\n",
    "nfin=10000\n",
    "nint=1\n",
    "binsize=5"
   ]
  },
  {
   "cell_type": "code",
   "execution_count": 23,
   "id": "b131084b",
   "metadata": {},
   "outputs": [],
   "source": [
    "mag_=[]\n",
    "\n",
    "for n in range(nin,nfin,nint):\n",
    "    dat=np.loadtxt(\"./obs/mag/\"+str(n)+\".dat\")\n",
    "    mag_.append(dat)\n",
    "    \n",
    "mag=np.array(mag_)"
   ]
  },
  {
   "cell_type": "code",
   "execution_count": 24,
   "id": "feebc03d",
   "metadata": {},
   "outputs": [],
   "source": [
    "jk_mag = Jackknife(mag.size, binsize)\n",
    "jk_mag.set(simple_mean, mag)\n",
    "jk_mag.do_it()"
   ]
  },
  {
   "cell_type": "code",
   "execution_count": 25,
   "id": "336890e7",
   "metadata": {},
   "outputs": [
    {
     "name": "stdout",
     "output_type": "stream",
     "text": [
      "mag_per_site\n"
     ]
    },
    {
     "data": {
      "text/plain": [
       "'0.005(61) exact:0.0000 [0.08 sigma]'"
      ]
     },
     "execution_count": 25,
     "metadata": {},
     "output_type": "execute_result"
    }
   ],
   "source": [
    "print(\"mag_per_site\")\n",
    "format_print_w_exact(0.0, jk_mag.mean(), jk_mag.err())"
   ]
  },
  {
   "cell_type": "code",
   "execution_count": null,
   "id": "705c4d2d",
   "metadata": {},
   "outputs": [],
   "source": []
  },
  {
   "cell_type": "code",
   "execution_count": 26,
   "id": "8e2e5902",
   "metadata": {},
   "outputs": [
    {
     "name": "stdout",
     "output_type": "stream",
     "text": [
      "mag\n",
      "0.88221534(100) exact:0.882215432 [0.09 sigma]\n"
     ]
    }
   ],
   "source": [
    "delta=1.0e-3\n",
    "h=1.0\n",
    "\n",
    "print(\"mag\")\n",
    "numeric=(np.log(Z3x3_numeric(beta, h+delta, kx,ky,kz))-np.log(Z3x3_numeric(beta, h-delta, kx,ky,kz)))/(2.0*delta)/9.0\n",
    "exact=mag_per_site3x3_numeric(beta,h, kx,ky,kz)\n",
    "print(format_print_w_exact(exact, numeric, delta**2))"
   ]
  },
  {
   "cell_type": "code",
   "execution_count": 27,
   "id": "99589835",
   "metadata": {},
   "outputs": [],
   "source": [
    "h=0.0"
   ]
  },
  {
   "cell_type": "code",
   "execution_count": 28,
   "id": "37de68d7",
   "metadata": {},
   "outputs": [],
   "source": [
    "jk_magsq = Jackknife(mag.size, binsize)\n",
    "jk_magsq.set(simple_mean, mag**2/9)\n",
    "jk_magsq.do_it()"
   ]
  },
  {
   "cell_type": "code",
   "execution_count": 29,
   "id": "d144358e",
   "metadata": {},
   "outputs": [
    {
     "name": "stdout",
     "output_type": "stream",
     "text": [
      "susc\n"
     ]
    },
    {
     "data": {
      "text/plain": [
       "'1.691(27) exact:1.6681 [0.87 sigma]'"
      ]
     },
     "execution_count": 29,
     "metadata": {},
     "output_type": "execute_result"
    }
   ],
   "source": [
    "print(\"susc\")\n",
    "numeric=(mag_per_site3x3_numeric(beta,h+delta, kx,ky,kz)-mag_per_site3x3_numeric(beta,h-delta, kx,ky,kz))/(2.0*delta)\n",
    "format_print_w_exact(numeric, jk_magsq.mean(), jk_magsq.err())"
   ]
  },
  {
   "cell_type": "code",
   "execution_count": null,
   "id": "14b31c85",
   "metadata": {},
   "outputs": [],
   "source": []
  },
  {
   "cell_type": "code",
   "execution_count": null,
   "id": "1d2e0d13",
   "metadata": {},
   "outputs": [],
   "source": []
  },
  {
   "cell_type": "code",
   "execution_count": 30,
   "id": "e5d616b5",
   "metadata": {},
   "outputs": [],
   "source": [
    "# delta=1.0e-3\n",
    "# print(\"mag\")\n",
    "# numeric=-(np.log(Z2x2(beta, h+delta, kx,ky,kz))-np.log(Z2x2(beta, h-delta, kx,ky,kz)))/(2.0*delta)/4.0\n",
    "# exact=mag_per_site2x2(beta,h, kx,ky,kz)\n",
    "# print(format_print_w_exact(exact, numeric, delta**2))\n",
    "# print(\"susc\")\n",
    "# numeric=-(mag_per_site2x2(beta,h+delta, kx,ky,kz)-mag_per_site2x2(beta,h-delta, kx,ky,kz))/(2.0*delta)\n",
    "# exact=susc2x2(beta,h, kx,ky,kz)\n",
    "# print(format_print_w_exact(exact, numeric, delta**2))"
   ]
  },
  {
   "cell_type": "code",
   "execution_count": null,
   "id": "7b7ca0d2",
   "metadata": {},
   "outputs": [],
   "source": []
  },
  {
   "cell_type": "code",
   "execution_count": 31,
   "id": "768ab46c",
   "metadata": {},
   "outputs": [
    {
     "name": "stdout",
     "output_type": "stream",
     "text": [
      "[['1.0 exact:1.0' '0.1062(53) exact:0.10886 [0.50 sigma]'\n",
      "  '0.1062(53) exact:0.10886 [0.50 sigma]']\n",
      " ['0.1304(56) exact:0.13331 [0.52 sigma]'\n",
      "  '0.0625(50) exact:0.05318 [1.87 sigma]'\n",
      "  '0.0465(48) exact:0.03869 [1.62 sigma]']\n",
      " ['0.1304(56) exact:0.13331 [0.52 sigma]'\n",
      "  '0.0465(48) exact:0.03869 [1.62 sigma]'\n",
      "  '0.0625(50) exact:0.05318 [1.87 sigma]']]\n"
     ]
    }
   ],
   "source": [
    "ss_=[]\n",
    "\n",
    "for n in range(nin,nfin,nint):\n",
    "    dat=np.loadtxt(\"./obs/ss/\"+str(n)+\".dat\")\n",
    "    ss_.append(dat)\n",
    "    \n",
    "ss=np.array(ss_)\n",
    "\n",
    "jk_ss = Jackknife(ss.size, binsize)\n",
    "jk_ss.set(simple_mean, ss)\n",
    "jk_ss.do_it()\n",
    "\n",
    "print(format_print_w_exact_matrix(ss_corr_numeric(beta, h, kx,ky,kz), jk_ss.mean(), jk_ss.err()))"
   ]
  },
  {
   "cell_type": "code",
   "execution_count": 32,
   "id": "f3486b08",
   "metadata": {},
   "outputs": [
    {
     "name": "stdout",
     "output_type": "stream",
     "text": [
      "[['1.0 exact:1.0' '0.1062(53) exact:0.10886 [0.50 sigma]'\n",
      "  '0.1062(53) exact:0.10886 [0.50 sigma]']\n",
      " ['0.0294(41) exact:0.02812 [0.32 sigma]'\n",
      "  '0.0214(39) exact:0.01672 [1.20 sigma]'\n",
      "  '0.0112(39) exact:0.01807 [1.79 sigma]']\n",
      " ['0.0294(41) exact:0.02812 [0.32 sigma]'\n",
      "  '0.0112(39) exact:0.01807 [1.79 sigma]'\n",
      "  '0.0214(39) exact:0.01672 [1.20 sigma]']]\n"
     ]
    }
   ],
   "source": [
    "exex_=[]\n",
    "\n",
    "for n in range(nin,nfin,nint):\n",
    "    dat=np.loadtxt(\"./obs/exex/\"+str(n)+\".dat\")\n",
    "    exex_.append(dat)\n",
    "    \n",
    "exex=np.array(exex_)\n",
    "\n",
    "jk_exex = Jackknife(exex.size, binsize)\n",
    "jk_exex.set(simple_mean, exex)\n",
    "jk_exex.do_it()\n",
    "\n",
    "print(format_print_w_exact_matrix(exex_corr_numeric(beta, h, kx,ky,kz), jk_exex.mean(), jk_exex.err()))"
   ]
  },
  {
   "cell_type": "code",
   "execution_count": 33,
   "id": "59b4dacc",
   "metadata": {},
   "outputs": [
    {
     "name": "stdout",
     "output_type": "stream",
     "text": [
      "[['0.0465(48) exact:0.03869 [1.62 sigma]'\n",
      "  '0.0625(50) exact:0.05318 [1.87 sigma]'\n",
      "  '0.0117(41) exact:0.01990 [2.03 sigma]']\n",
      " ['0.0183(42) exact:0.02095 [0.65 sigma]'\n",
      "  '0.0227(41) exact:0.02095 [0.43 sigma]'\n",
      "  '0.0155(35) exact:0.01702 [0.43 sigma]']\n",
      " ['0.0625(50) exact:0.05318 [1.87 sigma]'\n",
      "  '0.0465(48) exact:0.03869 [1.62 sigma]'\n",
      "  '0.0216(40) exact:0.01990 [0.43 sigma]']]\n"
     ]
    }
   ],
   "source": [
    "exey_=[]\n",
    "\n",
    "for n in range(nin,nfin,nint):\n",
    "    dat=np.loadtxt(\"./obs/exey/\"+str(n)+\".dat\")\n",
    "    exey_.append(dat)\n",
    "    \n",
    "exey=np.array(exey_)\n",
    "\n",
    "jk_exey = Jackknife(exey.size, binsize)\n",
    "jk_exey.set(simple_mean, exey)\n",
    "jk_exey.do_it()\n",
    "\n",
    "print(format_print_w_exact_matrix(exey_corr_numeric(beta, h, kx,ky,kz), jk_exey.mean(), jk_exey.err()))"
   ]
  },
  {
   "cell_type": "code",
   "execution_count": 34,
   "id": "7bc0f145",
   "metadata": {},
   "outputs": [
    {
     "name": "stdout",
     "output_type": "stream",
     "text": [
      "[['0.1304(56) exact:0.13331 [0.52 sigma]'\n",
      "  '0.0465(48) exact:0.03869 [1.62 sigma]'\n",
      "  '0.0117(41) exact:0.01990 [2.03 sigma]']\n",
      " ['0.0310(39) exact:0.02260 [2.16 sigma]'\n",
      "  '0.0126(38) exact:0.01270 [0.02 sigma]'\n",
      "  '0.0188(37) exact:0.01270 [1.62 sigma]']\n",
      " ['0.1304(56) exact:0.13331 [0.52 sigma]'\n",
      "  '0.0216(40) exact:0.01990 [0.43 sigma]'\n",
      "  '0.0465(48) exact:0.03869 [1.62 sigma]']]\n"
     ]
    }
   ],
   "source": [
    "exez_=[]\n",
    "\n",
    "for n in range(nin,nfin,nint):\n",
    "    dat=np.loadtxt(\"./obs/exez/\"+str(n)+\".dat\")\n",
    "    exez_.append(dat)\n",
    "    \n",
    "exez=np.array(exez_)\n",
    "\n",
    "jk_exez = Jackknife(exez.size, binsize)\n",
    "jk_exez.set(simple_mean, exez)\n",
    "jk_exez.do_it()\n",
    "\n",
    "print(format_print_w_exact_matrix(exez_corr_numeric(beta, h, kx,ky,kz), jk_exez.mean(), jk_exez.err()))"
   ]
  },
  {
   "cell_type": "code",
   "execution_count": 35,
   "id": "a20c67d1",
   "metadata": {},
   "outputs": [
    {
     "name": "stdout",
     "output_type": "stream",
     "text": [
      "[['1.0 exact:1.0' '0.0294(41) exact:0.02812 [0.32 sigma]'\n",
      "  '0.0294(41) exact:0.02812 [0.32 sigma]']\n",
      " ['0.1304(56) exact:0.13331 [0.52 sigma]'\n",
      "  '0.0239(38) exact:0.02161 [0.60 sigma]'\n",
      "  '0.0310(39) exact:0.02260 [2.16 sigma]']\n",
      " ['0.1304(56) exact:0.13331 [0.52 sigma]'\n",
      "  '0.0310(39) exact:0.02260 [2.16 sigma]'\n",
      "  '0.0239(38) exact:0.02161 [0.60 sigma]']]\n"
     ]
    }
   ],
   "source": [
    "eyey_=[]\n",
    "\n",
    "for n in range(nin,nfin,nint):\n",
    "    dat=np.loadtxt(\"./obs/eyey/\"+str(n)+\".dat\")\n",
    "    eyey_.append(dat)\n",
    "    \n",
    "eyey=np.array(eyey_)\n",
    "\n",
    "jk_eyey = Jackknife(eyey.size, binsize)\n",
    "jk_eyey.set(simple_mean, eyey)\n",
    "jk_eyey.do_it()\n",
    "\n",
    "print(format_print_w_exact_matrix(eyey_corr_numeric(beta, h, kx,ky,kz), jk_eyey.mean(), jk_eyey.err()))"
   ]
  },
  {
   "cell_type": "code",
   "execution_count": 36,
   "id": "563395af",
   "metadata": {},
   "outputs": [
    {
     "name": "stdout",
     "output_type": "stream",
     "text": [
      "[['0.1062(53) exact:0.10886 [0.50 sigma]'\n",
      "  '0.0112(39) exact:0.01807 [1.79 sigma]'\n",
      "  '0.1062(53) exact:0.10886 [0.50 sigma]']\n",
      " ['0.0465(48) exact:0.03869 [1.62 sigma]'\n",
      "  '0.0188(37) exact:0.01270 [1.62 sigma]'\n",
      "  '0.0227(41) exact:0.02095 [0.43 sigma]']\n",
      " ['0.0183(42) exact:0.02095 [0.65 sigma]'\n",
      "  '0.0126(38) exact:0.01270 [0.02 sigma]'\n",
      "  '0.0465(48) exact:0.03869 [1.62 sigma]']]\n"
     ]
    }
   ],
   "source": [
    "eyez_=[]\n",
    "\n",
    "for n in range(nin,nfin,nint):\n",
    "    dat=np.loadtxt(\"./obs/eyez/\"+str(n)+\".dat\")\n",
    "    eyez_.append(dat)\n",
    "    \n",
    "eyez=np.array(eyez_)\n",
    "\n",
    "jk_eyez = Jackknife(eyez.size, binsize)\n",
    "jk_eyez.set(simple_mean, eyez)\n",
    "jk_eyez.do_it()\n",
    "\n",
    "print(format_print_w_exact_matrix(eyez_corr_numeric(beta, h, kx,ky,kz), jk_eyez.mean(), jk_eyez.err()))"
   ]
  },
  {
   "cell_type": "code",
   "execution_count": null,
   "id": "26dca828",
   "metadata": {},
   "outputs": [],
   "source": [
    "ezez_=[]\n",
    "\n",
    "for n in range(nin,nfin,nint):\n",
    "    dat=np.loadtxt(\"./obs/ezez/\"+str(n)+\".dat\")\n",
    "    ezez_.append(dat)\n",
    "    \n",
    "ezez=np.array(ezez_)\n",
    "\n",
    "jk_ezez = Jackknife(ezez.size, binsize)\n",
    "jk_ezez.set(simple_mean, ezez)\n",
    "jk_ezez.do_it()\n",
    "\n",
    "print(format_print_w_exact_matrix(ezez_corr_numeric(beta, h, kx,ky,kz), jk_ezez.mean(), jk_ezez.err()))"
   ]
  },
  {
   "cell_type": "code",
   "execution_count": null,
   "id": "2a02ede6",
   "metadata": {},
   "outputs": [],
   "source": []
  },
  {
   "cell_type": "code",
   "execution_count": null,
   "id": "ac9ed14d",
   "metadata": {},
   "outputs": [],
   "source": []
  },
  {
   "cell_type": "code",
   "execution_count": null,
   "id": "ff0b11f4",
   "metadata": {},
   "outputs": [],
   "source": []
  }
 ],
 "metadata": {
  "kernelspec": {
   "display_name": "Python 3 (ipykernel)",
   "language": "python",
   "name": "python3"
  },
  "language_info": {
   "codemirror_mode": {
    "name": "ipython",
    "version": 3
   },
   "file_extension": ".py",
   "mimetype": "text/x-python",
   "name": "python",
   "nbconvert_exporter": "python",
   "pygments_lexer": "ipython3",
   "version": "3.9.12"
  }
 },
 "nbformat": 4,
 "nbformat_minor": 5
}
