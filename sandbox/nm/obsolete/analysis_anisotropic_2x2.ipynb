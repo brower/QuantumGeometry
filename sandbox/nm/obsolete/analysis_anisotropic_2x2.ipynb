{
 "cells": [
  {
   "cell_type": "code",
   "execution_count": 1,
   "id": "8a14a82e",
   "metadata": {},
   "outputs": [],
   "source": [
    "import numpy as np\n",
    "import matplotlib.pyplot as plt"
   ]
  },
  {
   "cell_type": "code",
   "execution_count": 2,
   "id": "ccf7342b",
   "metadata": {},
   "outputs": [],
   "source": [
    "class Jackknife:\n",
    "    def __init__( self, len_data, binsize ):\n",
    "        self.binsize = binsize\n",
    "        self.nbins = int(len_data/self.binsize)\n",
    "        self.N = self.binsize * self.nbins\n",
    "        self.jack_avg = []\n",
    "        self.est = 0\n",
    "        self.var_est = 0\n",
    "\n",
    "    def set( self, func, list_of_data ):\n",
    "        for i in range( self.nbins ):\n",
    "            self.jack_avg.append( func( i, self.binsize, list_of_data ) )\n",
    "\n",
    "    def do_it( self ):\n",
    "        for i in range( 0, self.nbins ):\n",
    "            self.est += self.jack_avg[i]\n",
    "        self.est /= self.nbins\n",
    "\n",
    "        for i in range( 0, self.nbins ):\n",
    "            self.var_est += ( self.jack_avg[i] - self.est )**2\n",
    "        self.var_est /= self.nbins\n",
    "        self.var_est *= self.nbins -1\n",
    "\n",
    "    def mean( self ):\n",
    "        return self.est\n",
    "\n",
    "    def var( self ):\n",
    "        return self.var_est\n",
    "\n",
    "    def err( self ):\n",
    "        return np.sqrt(self.var_est)\n",
    "\n",
    "def simple_mean(i, binsize, np_data):\n",
    "    resmpld = np.delete(np_data, np.s_[i*binsize:(i+1)*binsize], axis=0)\n",
    "    return np.mean(resmpld, axis=0)\n",
    "\n",
    "def format_print(cen, err):\n",
    "    for i in range(-50, 50):\n",
    "        if 10**(-i+1)>=err>10**(-i):\n",
    "            tmp=err*10**(i+1)\n",
    "            return '{num:.{width}f}'.format(num=cen, width=i+1)+'('+str(round(tmp))+')'\n",
    "\n",
    "def format_print_w_exact(exact, cen, err):\n",
    "    if np.abs(err)<1.0e-15:\n",
    "        return str(cen)+\" exact:\"+str(exact)\n",
    "    for i in range(-50, 50):\n",
    "        if 10**(-i+1)>=err>10**(-i):\n",
    "            tmp=err*10**(i+1)\n",
    "            return '{num:.{width}f}'.format(num=cen, width=i+1)+'('+str(round(tmp))+')'+' exact:'+'{ex:.{width}f}'.format(ex=exact, width=i+2)+' ['+'{num:.{width}f}'.format(num=abs(exact-cen)/err, width=2)+' sigma]'"
   ]
  },
  {
   "cell_type": "code",
   "execution_count": 3,
   "id": "0595f0a2",
   "metadata": {},
   "outputs": [],
   "source": [
    "def format_print_w_exact_matrix(exact, cen, err):\n",
    "    shape=exact.shape\n",
    "    res=[[\"\",\"\"],[\"\",\"\"]]\n",
    "\n",
    "    for i in range(shape[0]):\n",
    "        for j in range(shape[1]):\n",
    "            res[i][j]=format_print_w_exact(exact[i,j], cen[i,j], err[i,j])\n",
    "    \n",
    "    return np.array(res)"
   ]
  },
  {
   "cell_type": "code",
   "execution_count": 4,
   "id": "fd699ac1",
   "metadata": {},
   "outputs": [],
   "source": [
    "def Z2x2(beta,h,kx,ky,kz):\n",
    "    return 2.0*np.cosh(4.0*h)*np.exp(4.0*beta*(kx+ky+kz))+8.0*np.cosh(2.0*h)+2.0*(np.exp(4.0*beta*(kx-ky-kz))+np.exp(4.0*beta*(-kx+ky-kz))+np.exp(4.0*beta*(-kx-ky+kz)))\n",
    "\n",
    "def mag_per_site2x2(beta,h,kx,ky,kz):\n",
    "    numer = np.sinh(4.0*h)*np.exp(4.0*beta*(kx+ky+kz))+2.0*np.sinh(2.0*h)\n",
    "    denom = np.cosh(4.0*h)*np.exp(4.0*beta*(kx+ky+kz))+4.0*np.cosh(2.0*h)+np.exp(4.0*beta*(kx-ky-kz))+np.exp(4.0*beta*(-kx+ky-kz))+np.exp(4.0*beta*(-kx-ky+kz))\n",
    "    return -numer/denom\n",
    "\n",
    "def susc2x2(beta,h,kx,ky,kz):\n",
    "    numer1 = 4.0*np.cosh(4.0*h)*np.exp(4.0*beta*(kx+ky+kz))+4.0*np.cosh(2.0*h)\n",
    "    numer2 = np.sinh(4.0*h)*np.exp(4.0*beta*(kx+ky+kz))+2.0*np.sinh(2.0*h)\n",
    "    denom = np.cosh(4.0*h)*np.exp(4.0*beta*(kx+ky+kz))+4.0*np.cosh(2.0*h)+np.exp(4.0*beta*(kx-ky-kz))+np.exp(4.0*beta*(-kx+ky-kz))+np.exp(4.0*beta*(-kx-ky+kz))\n",
    "    return numer1/denom - 4.0*(numer2/denom)**2\n",
    "\n",
    "# delta=1.0e-3\n",
    "# print(\"mag\")\n",
    "# numeric=-(np.log(Z2x2(beta, h+delta, kx,ky,kz))-np.log(Z2x2(beta, h-delta, kx,ky,kz)))/(2.0*delta)/4.0\n",
    "# exact=mag_per_site2x2(beta,h, kx,ky,kz)\n",
    "# print(format_print_w_exact(exact, numeric, delta**2))\n",
    "# print(\"susc\")\n",
    "# numeric=-(mag_per_site2x2(beta,h+delta, kx,ky,kz)-mag_per_site2x2(beta,h-delta, kx,ky,kz))/(2.0*delta)\n",
    "# exact=susc2x2(beta,h, kx,ky,kz)\n",
    "# print(format_print_w_exact(exact, numeric, delta**2))"
   ]
  },
  {
   "cell_type": "code",
   "execution_count": null,
   "id": "f7844d8c",
   "metadata": {},
   "outputs": [],
   "source": []
  },
  {
   "cell_type": "code",
   "execution_count": 5,
   "id": "b6ba35a6",
   "metadata": {},
   "outputs": [],
   "source": [
    "def H2x2_numeric(beta_,h_, kx_,ky_,kz_, s1,s2,s3,s4):\n",
    "    res = 0.0\n",
    "    res += kx_*s1*s2\n",
    "    res += kz_*s1*s3\n",
    "    res += ky_*s1*s4\n",
    "    res += ky_*s2*s3\n",
    "    res += kz_*s2*s4\n",
    "    res += kx_*s3*s4\n",
    "    \n",
    "    res *= -2.0*beta_\n",
    "    res -= h_*(s1+s2+s3+s4)\n",
    "    \n",
    "    return res"
   ]
  },
  {
   "cell_type": "code",
   "execution_count": 6,
   "id": "8ab4ac26",
   "metadata": {},
   "outputs": [],
   "source": [
    "def Z2x2_numeric(beta_,h_, kx_,ky_,kz_):\n",
    "    res=0.0\n",
    "    for s1 in [-1,1]:\n",
    "        for s2 in [-1,1]:\n",
    "            for s3 in [-1,1]:\n",
    "                for s4 in [-1,1]:\n",
    "                    res += np.exp(-H2x2_numeric(beta_,h_, kx_,ky_,kz_, s1,s2,s3,s4))\n",
    "    return res"
   ]
  },
  {
   "cell_type": "code",
   "execution_count": 7,
   "id": "ac5253c1",
   "metadata": {},
   "outputs": [],
   "source": [
    "def mag_per_site2x2_numeric(beta_,h_, kx_,ky_,kz_):\n",
    "    numer=0.0\n",
    "    denom=0.0\n",
    "    for s1 in [-1,1]:\n",
    "        for s2 in [-1,1]:\n",
    "            for s3 in [-1,1]:\n",
    "                for s4 in [-1,1]:\n",
    "                    numer += (s1+s2+s3+s4)*np.exp(-H2x2_numeric(beta_,h_, kx_,ky_,kz_, s1,s2,s3,s4))\n",
    "                    denom += np.exp(-H2x2_numeric(beta_,h_, kx_,ky_,kz_, s1,s2,s3,s4))\n",
    "    res = numer/denom/4.0\n",
    "    return res"
   ]
  },
  {
   "cell_type": "code",
   "execution_count": 8,
   "id": "80d607e0",
   "metadata": {},
   "outputs": [],
   "source": [
    "def ss_matrix(s1,s2,s3,s4):\n",
    "    mat=np.array([\n",
    "        [s1*s4, s1*s3],\n",
    "        [s1*s1, s1*s2]\n",
    "    ])\n",
    "    return mat"
   ]
  },
  {
   "cell_type": "code",
   "execution_count": 9,
   "id": "746f27ae",
   "metadata": {},
   "outputs": [],
   "source": [
    "def exex_matrix(s1,s2,s3,s4):\n",
    "    ex=np.array([\n",
    "        [s4*s3, s3*s4],\n",
    "        [s1*s2, s2*s1]\n",
    "    ])\n",
    "    mat=np.array([\n",
    "        [ex[0,0]*ex[0,0], ex[0,0]*ex[0,1]],\n",
    "        [ex[0,0]*ex[1,0], ex[0,0]*ex[1,1]]\n",
    "    ])\n",
    "    return mat"
   ]
  },
  {
   "cell_type": "code",
   "execution_count": 10,
   "id": "9785a874",
   "metadata": {},
   "outputs": [],
   "source": [
    "def exey_matrix(s1,s2,s3,s4):\n",
    "    ex=np.array([\n",
    "        [s4*s3, s3*s4],\n",
    "        [s1*s2, s2*s1]\n",
    "    ])\n",
    "    ey=np.array([\n",
    "        [s4*s1, s3*s2],\n",
    "        [s1*s4, s2*s3]\n",
    "    ])\n",
    "    mat=np.array([\n",
    "        [ex[0,0]*ey[0,0], ex[0,0]*ey[0,1]],\n",
    "        [ex[0,0]*ey[1,0], ex[0,0]*ey[1,1]]\n",
    "    ])\n",
    "    return mat"
   ]
  },
  {
   "cell_type": "code",
   "execution_count": 11,
   "id": "949d0897",
   "metadata": {},
   "outputs": [],
   "source": [
    "def exez_matrix(s1,s2,s3,s4):\n",
    "    ex=np.array([\n",
    "        [s4*s3, s3*s4],\n",
    "        [s1*s2, s2*s1]\n",
    "    ])\n",
    "    ez=np.array([\n",
    "        [s4*s2, s3*s1],\n",
    "        [s1*s3, s2*s4]\n",
    "    ])\n",
    "    mat=np.array([\n",
    "        [ex[0,0]*ez[0,0], ex[0,0]*ez[0,1]],\n",
    "        [ex[0,0]*ez[1,0], ex[0,0]*ez[1,1]]\n",
    "    ])\n",
    "    return mat"
   ]
  },
  {
   "cell_type": "code",
   "execution_count": 12,
   "id": "1a35a488",
   "metadata": {},
   "outputs": [],
   "source": [
    "def eyey_matrix(s1,s2,s3,s4):\n",
    "    ey=np.array([\n",
    "        [s4*s1, s3*s2],\n",
    "        [s1*s4, s2*s3]\n",
    "    ])\n",
    "    mat=np.array([\n",
    "        [ey[0,0]*ey[0,0], ey[0,0]*ey[0,1]],\n",
    "        [ey[0,0]*ey[1,0], ey[0,0]*ey[1,1]]\n",
    "    ])\n",
    "    return mat"
   ]
  },
  {
   "cell_type": "code",
   "execution_count": 13,
   "id": "8023f320",
   "metadata": {},
   "outputs": [],
   "source": [
    "def eyez_matrix(s1,s2,s3,s4):\n",
    "    ey=np.array([\n",
    "        [s4*s1, s3*s2],\n",
    "        [s1*s4, s2*s3]\n",
    "    ])\n",
    "    ez=np.array([\n",
    "        [s4*s2, s3*s1],\n",
    "        [s1*s3, s2*s4]\n",
    "    ])\n",
    "    mat=np.array([\n",
    "        [ey[0,0]*ez[0,0], ey[0,0]*ez[0,1]],\n",
    "        [ey[0,0]*ez[1,0], ey[0,0]*ez[1,1]]\n",
    "    ])\n",
    "    return mat"
   ]
  },
  {
   "cell_type": "code",
   "execution_count": 14,
   "id": "3095c075",
   "metadata": {},
   "outputs": [],
   "source": [
    "def ezez_matrix(s1,s2,s3,s4):\n",
    "    ez=np.array([\n",
    "        [s4*s2, s3*s1],\n",
    "        [s1*s3, s2*s4]\n",
    "    ])\n",
    "    mat=np.array([\n",
    "        [ez[0,0]*ez[0,0], ez[0,0]*ez[0,1]],\n",
    "        [ez[0,0]*ez[1,0], ez[0,0]*ez[1,1]]\n",
    "    ])\n",
    "    return mat"
   ]
  },
  {
   "cell_type": "code",
   "execution_count": 15,
   "id": "e28ace45",
   "metadata": {},
   "outputs": [],
   "source": [
    "def ss_corr_numeric(beta_,h_, kx_,ky_,kz_):\n",
    "\n",
    "    numer=ss_matrix(0.0,0.0,0.0,0.0)\n",
    "    denom=0.0\n",
    "    \n",
    "    for s1 in [-1,1]:\n",
    "        for s2 in [-1,1]:\n",
    "            for s3 in [-1,1]:\n",
    "                for s4 in [-1,1]:\n",
    "\n",
    "                    tmp = ss_matrix(s1,s2,s3,s4)\n",
    "                    numer += tmp*np.exp(-H2x2_numeric(beta_,h_, kx_,ky_,kz_, s1,s2,s3,s4))\n",
    "                    denom += np.exp(-H2x2_numeric(beta_,h_, kx_,ky_,kz_, s1,s2,s3,s4))\n",
    "    \n",
    "    res = numer/denom\n",
    "    return res"
   ]
  },
  {
   "cell_type": "code",
   "execution_count": 16,
   "id": "71f35a05",
   "metadata": {},
   "outputs": [],
   "source": [
    "def exex_corr_numeric(beta_,h_, kx_,ky_,kz_):\n",
    "\n",
    "    numer=exex_matrix(0.0,0.0,0.0,0.0)\n",
    "    denom=0.0\n",
    "    \n",
    "    for s1 in [-1,1]:\n",
    "        for s2 in [-1,1]:\n",
    "            for s3 in [-1,1]:\n",
    "                for s4 in [-1,1]:\n",
    "\n",
    "                    tmp = exex_matrix(s1,s2,s3,s4)\n",
    "                    numer += tmp*np.exp(-H2x2_numeric(beta_,h_, kx_,ky_,kz_, s1,s2,s3,s4))\n",
    "                    denom += np.exp(-H2x2_numeric(beta_,h_, kx_,ky_,kz_, s1,s2,s3,s4))\n",
    "    \n",
    "    res = numer/denom\n",
    "    return res"
   ]
  },
  {
   "cell_type": "code",
   "execution_count": 17,
   "id": "661287b7",
   "metadata": {},
   "outputs": [],
   "source": [
    "def exey_corr_numeric(beta_,h_, kx_,ky_,kz_):\n",
    "\n",
    "    numer=exey_matrix(0.0,0.0,0.0,0.0)\n",
    "    denom=0.0\n",
    "    \n",
    "    for s1 in [-1,1]:\n",
    "        for s2 in [-1,1]:\n",
    "            for s3 in [-1,1]:\n",
    "                for s4 in [-1,1]:\n",
    "\n",
    "                    tmp = exey_matrix(s1,s2,s3,s4)\n",
    "                    numer += tmp*np.exp(-H2x2_numeric(beta_,h_, kx_,ky_,kz_, s1,s2,s3,s4))\n",
    "                    denom += np.exp(-H2x2_numeric(beta_,h_, kx_,ky_,kz_, s1,s2,s3,s4))\n",
    "    \n",
    "    res = numer/denom\n",
    "    return res"
   ]
  },
  {
   "cell_type": "code",
   "execution_count": 18,
   "id": "f31d9aa9",
   "metadata": {},
   "outputs": [],
   "source": [
    "def exez_corr_numeric(beta_,h_, kx_,ky_,kz_):\n",
    "\n",
    "    numer=exez_matrix(0.0,0.0,0.0,0.0)\n",
    "    denom=0.0\n",
    "    \n",
    "    for s1 in [-1,1]:\n",
    "        for s2 in [-1,1]:\n",
    "            for s3 in [-1,1]:\n",
    "                for s4 in [-1,1]:\n",
    "\n",
    "                    tmp = exez_matrix(s1,s2,s3,s4)\n",
    "                    numer += tmp*np.exp(-H2x2_numeric(beta_,h_, kx_,ky_,kz_, s1,s2,s3,s4))\n",
    "                    denom += np.exp(-H2x2_numeric(beta_,h_, kx_,ky_,kz_, s1,s2,s3,s4))\n",
    "    \n",
    "    res = numer/denom\n",
    "    return res"
   ]
  },
  {
   "cell_type": "code",
   "execution_count": 19,
   "id": "8c055c40",
   "metadata": {},
   "outputs": [],
   "source": [
    "def eyey_corr_numeric(beta_,h_, kx_,ky_,kz_):\n",
    "\n",
    "    numer=eyey_matrix(0.0,0.0,0.0,0.0)\n",
    "    denom=0.0\n",
    "    \n",
    "    for s1 in [-1,1]:\n",
    "        for s2 in [-1,1]:\n",
    "            for s3 in [-1,1]:\n",
    "                for s4 in [-1,1]:\n",
    "\n",
    "                    tmp = eyey_matrix(s1,s2,s3,s4)\n",
    "                    numer += tmp*np.exp(-H2x2_numeric(beta_,h_, kx_,ky_,kz_, s1,s2,s3,s4))\n",
    "                    denom += np.exp(-H2x2_numeric(beta_,h_, kx_,ky_,kz_, s1,s2,s3,s4))\n",
    "    \n",
    "    res = numer/denom\n",
    "    return res"
   ]
  },
  {
   "cell_type": "code",
   "execution_count": 20,
   "id": "a965d9c6",
   "metadata": {},
   "outputs": [],
   "source": [
    "def eyez_corr_numeric(beta_,h_, kx_,ky_,kz_):\n",
    "\n",
    "    numer=eyez_matrix(0.0,0.0,0.0,0.0)\n",
    "    denom=0.0\n",
    "    \n",
    "    for s1 in [-1,1]:\n",
    "        for s2 in [-1,1]:\n",
    "            for s3 in [-1,1]:\n",
    "                for s4 in [-1,1]:\n",
    "\n",
    "                    tmp = eyez_matrix(s1,s2,s3,s4)\n",
    "                    numer += tmp*np.exp(-H2x2_numeric(beta_,h_, kx_,ky_,kz_, s1,s2,s3,s4))\n",
    "                    denom += np.exp(-H2x2_numeric(beta_,h_, kx_,ky_,kz_, s1,s2,s3,s4))\n",
    "    \n",
    "    res = numer/denom\n",
    "    return res"
   ]
  },
  {
   "cell_type": "code",
   "execution_count": 21,
   "id": "74fd1962",
   "metadata": {},
   "outputs": [],
   "source": [
    "def ezez_corr_numeric(beta_,h_, kx_,ky_,kz_):\n",
    "\n",
    "    numer=ezez_matrix(0.0,0.0,0.0,0.0)\n",
    "    denom=0.0\n",
    "    \n",
    "    for s1 in [-1,1]:\n",
    "        for s2 in [-1,1]:\n",
    "            for s3 in [-1,1]:\n",
    "                for s4 in [-1,1]:\n",
    "\n",
    "                    tmp = ezez_matrix(s1,s2,s3,s4)\n",
    "                    numer += tmp*np.exp(-H2x2_numeric(beta_,h_, kx_,ky_,kz_, s1,s2,s3,s4))\n",
    "                    denom += np.exp(-H2x2_numeric(beta_,h_, kx_,ky_,kz_, s1,s2,s3,s4))\n",
    "    \n",
    "    res = numer/denom\n",
    "    return res"
   ]
  },
  {
   "cell_type": "code",
   "execution_count": 22,
   "id": "d3165ca6",
   "metadata": {},
   "outputs": [],
   "source": [
    "# print(Z2x2_numeric(beta,h,kx,ky,kz))\n",
    "# print(Z2x2(beta,h,kx,ky,kz))\n",
    "\n",
    "# print(mag_per_site2x2_numeric(beta,h,kx,ky,kz))\n",
    "# print(mag_per_site2x2(beta,h,kx,ky,kz))"
   ]
  },
  {
   "cell_type": "code",
   "execution_count": null,
   "id": "423f9b45",
   "metadata": {},
   "outputs": [],
   "source": []
  },
  {
   "cell_type": "code",
   "execution_count": 23,
   "id": "2cad631a",
   "metadata": {},
   "outputs": [],
   "source": [
    "beta=0.474653\n",
    "h=0.\n",
    "\n",
    "kx=0.2\n",
    "ky=2.1\n",
    "kz=1.3\n",
    "\n",
    "# kx=1.0\n",
    "# ky=1.0\n",
    "# kz=1.0"
   ]
  },
  {
   "cell_type": "code",
   "execution_count": null,
   "id": "9e310733",
   "metadata": {},
   "outputs": [],
   "source": []
  },
  {
   "cell_type": "code",
   "execution_count": 24,
   "id": "edf93a6f",
   "metadata": {},
   "outputs": [],
   "source": [
    "nin=1000\n",
    "nfin=10000\n",
    "nint=1\n",
    "binsize=10"
   ]
  },
  {
   "cell_type": "code",
   "execution_count": 25,
   "id": "b131084b",
   "metadata": {},
   "outputs": [],
   "source": [
    "mag_=[]\n",
    "\n",
    "for n in range(nin,nfin,nint):\n",
    "    dat=np.loadtxt(\"./obs/mag/\"+str(n)+\".dat\")\n",
    "    mag_.append(dat)\n",
    "    \n",
    "mag=np.array(mag_)"
   ]
  },
  {
   "cell_type": "code",
   "execution_count": 26,
   "id": "feebc03d",
   "metadata": {},
   "outputs": [],
   "source": [
    "jk_mag = Jackknife(mag.size, binsize)\n",
    "jk_mag.set(simple_mean, mag)\n",
    "jk_mag.do_it()"
   ]
  },
  {
   "cell_type": "code",
   "execution_count": 27,
   "id": "336890e7",
   "metadata": {},
   "outputs": [
    {
     "name": "stdout",
     "output_type": "stream",
     "text": [
      "mag_per_site\n"
     ]
    },
    {
     "data": {
      "text/plain": [
       "'0.0024(35) exact:0.00000 [0.69 sigma]'"
      ]
     },
     "execution_count": 27,
     "metadata": {},
     "output_type": "execute_result"
    }
   ],
   "source": [
    "print(\"mag_per_site\")\n",
    "format_print_w_exact(0.0, jk_mag.mean(), jk_mag.err())"
   ]
  },
  {
   "cell_type": "code",
   "execution_count": 28,
   "id": "2286d490",
   "metadata": {},
   "outputs": [],
   "source": [
    "jk_magsq = Jackknife(mag.size, binsize)\n",
    "jk_magsq.set(simple_mean, mag**2/4)\n",
    "jk_magsq.do_it()"
   ]
  },
  {
   "cell_type": "code",
   "execution_count": 29,
   "id": "fa5c4208",
   "metadata": {},
   "outputs": [
    {
     "name": "stdout",
     "output_type": "stream",
     "text": [
      "susc\n"
     ]
    },
    {
     "data": {
      "text/plain": [
       "'3.9717(34) exact:3.97321 [0.46 sigma]'"
      ]
     },
     "execution_count": 29,
     "metadata": {},
     "output_type": "execute_result"
    }
   ],
   "source": [
    "print(\"susc\")\n",
    "exact=susc2x2(beta,h,kx,ky,kz)\n",
    "format_print_w_exact(exact, jk_magsq.mean(), jk_magsq.err())"
   ]
  },
  {
   "cell_type": "code",
   "execution_count": null,
   "id": "75d51a30",
   "metadata": {},
   "outputs": [],
   "source": []
  },
  {
   "cell_type": "code",
   "execution_count": 30,
   "id": "f3486b08",
   "metadata": {},
   "outputs": [
    {
     "name": "stdout",
     "output_type": "stream",
     "text": [
      "[['1.0 exact:0.9914630931528331' '1.0 exact:0.9914630931528331']\n",
      " ['0.9909(14) exact:1.00000 [6.39 sigma]'\n",
      "  '0.9909(14) exact:1.00000 [6.39 sigma]']]\n"
     ]
    }
   ],
   "source": [
    "exex_=[]\n",
    "\n",
    "for n in range(nin,nfin,nint):\n",
    "    dat=np.loadtxt(\"./obs/exex/\"+str(n)+\".dat\")\n",
    "    exex_.append(dat)\n",
    "    \n",
    "exex=np.array(exex_)\n",
    "\n",
    "jk_exex = Jackknife(exex.size, binsize)\n",
    "jk_exex.set(simple_mean, exex)\n",
    "jk_exex.do_it()\n",
    "\n",
    "print(format_print_w_exact_matrix(exex_corr_numeric(beta, h, kx,ky,kz), jk_exex.mean(), jk_exex.err()))"
   ]
  },
  {
   "cell_type": "code",
   "execution_count": 31,
   "id": "59b4dacc",
   "metadata": {},
   "outputs": [
    {
     "name": "stdout",
     "output_type": "stream",
     "text": [
      "[['0.9883(15) exact:0.98906 [0.50 sigma]'\n",
      "  '0.9883(15) exact:0.98906 [0.50 sigma]']\n",
      " ['0.9883(15) exact:0.98906 [0.50 sigma]'\n",
      "  '0.9883(15) exact:0.98906 [0.50 sigma]']]\n"
     ]
    }
   ],
   "source": [
    "exey_=[]\n",
    "\n",
    "for n in range(nin,nfin,nint):\n",
    "    dat=np.loadtxt(\"./obs/exey/\"+str(n)+\".dat\")\n",
    "    exey_.append(dat)\n",
    "    \n",
    "exey=np.array(exey_)\n",
    "\n",
    "jk_exey = Jackknife(exey.size, binsize)\n",
    "jk_exey.set(simple_mean, exey)\n",
    "jk_exey.do_it()\n",
    "\n",
    "print(format_print_w_exact_matrix(exey_corr_numeric(beta, h, kx,ky,kz), jk_exey.mean(), jk_exey.err()))"
   ]
  },
  {
   "cell_type": "code",
   "execution_count": 32,
   "id": "7bc0f145",
   "metadata": {},
   "outputs": [
    {
     "name": "stdout",
     "output_type": "stream",
     "text": [
      "[['0.99522(75) exact:0.995407 [0.25 sigma]'\n",
      "  '0.99522(75) exact:0.995407 [0.25 sigma]']\n",
      " ['0.99522(75) exact:0.995407 [0.25 sigma]'\n",
      "  '0.99522(75) exact:0.995407 [0.25 sigma]']]\n"
     ]
    }
   ],
   "source": [
    "exez_=[]\n",
    "\n",
    "for n in range(nin,nfin,nint):\n",
    "    dat=np.loadtxt(\"./obs/exez/\"+str(n)+\".dat\")\n",
    "    exez_.append(dat)\n",
    "    \n",
    "exez=np.array(exez_)\n",
    "\n",
    "jk_exez = Jackknife(exez.size, binsize)\n",
    "jk_exez.set(simple_mean, exez)\n",
    "jk_exez.do_it()\n",
    "\n",
    "print(format_print_w_exact_matrix(exez_corr_numeric(beta, h, kx,ky,kz), jk_exez.mean(), jk_exez.err()))"
   ]
  },
  {
   "cell_type": "code",
   "execution_count": 33,
   "id": "a20c67d1",
   "metadata": {},
   "outputs": [
    {
     "name": "stdout",
     "output_type": "stream",
     "text": [
      "[['1.0 exact:1.0' '0.9909(14) exact:0.99146 [0.40 sigma]']\n",
      " ['1.0 exact:1.0' '0.9909(14) exact:0.99146 [0.40 sigma]']]\n"
     ]
    }
   ],
   "source": [
    "eyey_=[]\n",
    "\n",
    "for n in range(nin,nfin,nint):\n",
    "    dat=np.loadtxt(\"./obs/eyey/\"+str(n)+\".dat\")\n",
    "    eyey_.append(dat)\n",
    "    \n",
    "eyey=np.array(eyey_)\n",
    "\n",
    "jk_eyey = Jackknife(eyey.size, binsize)\n",
    "jk_eyey.set(simple_mean, eyey)\n",
    "jk_eyey.do_it()\n",
    "\n",
    "print(format_print_w_exact_matrix(eyey_corr_numeric(beta, h, kx,ky,kz), jk_eyey.mean(), jk_eyey.err()))"
   ]
  },
  {
   "cell_type": "code",
   "execution_count": 34,
   "id": "563395af",
   "metadata": {},
   "outputs": [
    {
     "name": "stdout",
     "output_type": "stream",
     "text": [
      "[['0.9881(15) exact:0.98874 [0.43 sigma]'\n",
      "  '0.9881(15) exact:0.98874 [0.43 sigma]']\n",
      " ['0.9881(15) exact:0.98874 [0.43 sigma]'\n",
      "  '0.9881(15) exact:0.98874 [0.43 sigma]']]\n"
     ]
    }
   ],
   "source": [
    "eyez_=[]\n",
    "\n",
    "for n in range(nin,nfin,nint):\n",
    "    dat=np.loadtxt(\"./obs/eyez/\"+str(n)+\".dat\")\n",
    "    eyez_.append(dat)\n",
    "    \n",
    "eyez=np.array(eyez_)\n",
    "\n",
    "jk_eyez = Jackknife(eyez.size, binsize)\n",
    "jk_eyez.set(simple_mean, eyez)\n",
    "jk_eyez.do_it()\n",
    "\n",
    "print(format_print_w_exact_matrix(eyez_corr_numeric(beta, h, kx,ky,kz), jk_eyez.mean(), jk_eyez.err()))"
   ]
  },
  {
   "cell_type": "code",
   "execution_count": 35,
   "id": "26dca828",
   "metadata": {},
   "outputs": [
    {
     "name": "stdout",
     "output_type": "stream",
     "text": [
      "[['1.0 exact:1.0' '0.9909(14) exact:0.99146 [0.40 sigma]']\n",
      " ['0.9909(14) exact:0.99146 [0.40 sigma]' '1.0 exact:1.0']]\n"
     ]
    }
   ],
   "source": [
    "ezez_=[]\n",
    "\n",
    "for n in range(nin,nfin,nint):\n",
    "    dat=np.loadtxt(\"./obs/ezez/\"+str(n)+\".dat\")\n",
    "    ezez_.append(dat)\n",
    "    \n",
    "ezez=np.array(ezez_)\n",
    "\n",
    "jk_ezez = Jackknife(ezez.size, binsize)\n",
    "jk_ezez.set(simple_mean, ezez)\n",
    "jk_ezez.do_it()\n",
    "\n",
    "print(format_print_w_exact_matrix(ezez_corr_numeric(beta, h, kx,ky,kz), jk_ezez.mean(), jk_ezez.err()))"
   ]
  },
  {
   "cell_type": "code",
   "execution_count": null,
   "id": "2a02ede6",
   "metadata": {},
   "outputs": [],
   "source": []
  },
  {
   "cell_type": "code",
   "execution_count": null,
   "id": "75248386",
   "metadata": {},
   "outputs": [],
   "source": []
  },
  {
   "cell_type": "code",
   "execution_count": null,
   "id": "926747db",
   "metadata": {},
   "outputs": [],
   "source": []
  },
  {
   "cell_type": "code",
   "execution_count": null,
   "id": "72620623",
   "metadata": {},
   "outputs": [],
   "source": []
  },
  {
   "cell_type": "code",
   "execution_count": null,
   "id": "ac9ed14d",
   "metadata": {},
   "outputs": [],
   "source": []
  }
 ],
 "metadata": {
  "kernelspec": {
   "display_name": "Python 3 (ipykernel)",
   "language": "python",
   "name": "python3"
  },
  "language_info": {
   "codemirror_mode": {
    "name": "ipython",
    "version": 3
   },
   "file_extension": ".py",
   "mimetype": "text/x-python",
   "name": "python",
   "nbconvert_exporter": "python",
   "pygments_lexer": "ipython3",
   "version": "3.9.12"
  }
 },
 "nbformat": 4,
 "nbformat_minor": 5
}
