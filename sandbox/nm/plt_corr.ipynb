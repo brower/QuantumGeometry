{
 "cells": [
  {
   "cell_type": "code",
   "execution_count": 1,
   "id": "78cf0168",
   "metadata": {},
   "outputs": [],
   "source": [
    "import numpy as np\n",
    "import matplotlib.pyplot as plt"
   ]
  },
  {
   "cell_type": "code",
   "execution_count": 5,
   "id": "3981c47a",
   "metadata": {},
   "outputs": [],
   "source": [
    "ss=np.loadtxt(\"./obs/ss.dat\")\n",
    "\n",
    "exex=np.loadtxt(\"./obs/exex.dat\")\n",
    "exey=np.loadtxt(\"./obs/exey.dat\")\n",
    "exez=np.loadtxt(\"./obs/exez.dat\")\n",
    "eyey=np.loadtxt(\"./obs/eyey.dat\")\n",
    "eyez=np.loadtxt(\"./obs/eyez.dat\")\n",
    "ezez=np.loadtxt(\"./obs/ezez.dat\")\n",
    "\n",
    "Lx=64\n",
    "Ly=64"
   ]
  },
  {
   "cell_type": "code",
   "execution_count": 3,
   "id": "8f85ae81",
   "metadata": {},
   "outputs": [],
   "source": [
    "r_ss_=[]\n",
    "for y in range(int(Ly/2)):\n",
    "    for x in range(int(Lx/2)):\n",
    "        rsq = x*x + y*y\n",
    "        r_ss_.append([np.sqrt(rsq), ss[y,x]])\n",
    "r_ss=np.array(r_ss_)"
   ]
  },
  {
   "cell_type": "code",
   "execution_count": 6,
   "id": "535587e6",
   "metadata": {},
   "outputs": [],
   "source": [
    "r_exex_=[]\n",
    "for y in range(int(Ly/2)):\n",
    "    for x in range(int(Lx/2)):\n",
    "        rsq = x*x + y*y\n",
    "        r_exex_.append([np.sqrt(rsq), exex[y,x]])\n",
    "r_exex=np.array(r_exex_)"
   ]
  },
  {
   "cell_type": "code",
   "execution_count": 7,
   "id": "f975b6c4",
   "metadata": {},
   "outputs": [],
   "source": [
    "r_exey_=[]\n",
    "for y in range(int(Ly/2)):\n",
    "    for x in range(int(Lx/2)):\n",
    "        rsq = x*x + y*y\n",
    "        r_exey_.append([np.sqrt(rsq), exey[y,x]])\n",
    "r_exey=np.array(r_exey_)"
   ]
  },
  {
   "cell_type": "code",
   "execution_count": 8,
   "id": "6eedc68c",
   "metadata": {},
   "outputs": [],
   "source": [
    "r_exez_=[]\n",
    "for y in range(int(Ly/2)):\n",
    "    for x in range(int(Lx/2)):\n",
    "        rsq = x*x + y*y\n",
    "        r_exez_.append([np.sqrt(rsq), exez[y,x]])\n",
    "r_exez=np.array(r_exez_)"
   ]
  },
  {
   "cell_type": "code",
   "execution_count": 9,
   "id": "57158d6e",
   "metadata": {},
   "outputs": [],
   "source": [
    "r_eyey_=[]\n",
    "for y in range(int(Ly/2)):\n",
    "    for x in range(int(Lx/2)):\n",
    "        rsq = x*x + y*y\n",
    "        r_eyey_.append([np.sqrt(rsq), eyey[y,x]])\n",
    "r_eyey=np.array(r_eyey_)"
   ]
  },
  {
   "cell_type": "code",
   "execution_count": 13,
   "id": "d0f7c5db",
   "metadata": {},
   "outputs": [],
   "source": [
    "r_eyez_=[]\n",
    "for y in range(int(Ly/2)):\n",
    "    for x in range(int(Lx/2)):\n",
    "        rsq = x*x + y*y\n",
    "        r_eyez_.append([np.sqrt(rsq), eyez[y,x]])\n",
    "r_eyez=np.array(r_eyez_)"
   ]
  },
  {
   "cell_type": "code",
   "execution_count": 14,
   "id": "6edab829",
   "metadata": {},
   "outputs": [],
   "source": [
    "r_ezez_=[]\n",
    "for y in range(int(Ly/2)):\n",
    "    for x in range(int(Lx/2)):\n",
    "        rsq = x*x + y*y\n",
    "        r_ezez_.append([np.sqrt(rsq), ezez[y,x]])\n",
    "r_ezez=np.array(r_ezez_)"
   ]
  },
  {
   "cell_type": "code",
   "execution_count": null,
   "id": "356d0258",
   "metadata": {},
   "outputs": [],
   "source": []
  },
  {
   "cell_type": "code",
   "execution_count": null,
   "id": "8d0cb681",
   "metadata": {},
   "outputs": [],
   "source": []
  },
  {
   "cell_type": "code",
   "execution_count": 21,
   "id": "11ebe34a",
   "metadata": {},
   "outputs": [
    {
     "data": {
      "image/png": "[encoded data removed]",
      "text/plain": [
       "<Figure size 432x288 with 1 Axes>"
      ]
     },
     "metadata": {
      "needs_background": "light"
     },
     "output_type": "display_data"
    }
   ],
   "source": [
    "plt.scatter(r_ss.T[0], r_ss.T[1], label=\"ss\")\n",
    "plt.scatter(r_exex.T[0], r_exex.T[1], label=\"exex\")\n",
    "plt.scatter(r_exey.T[0], r_exey.T[1], label=\"exey\")\n",
    "plt.scatter(r_exez.T[0], r_exez.T[1], label=\"exez\")\n",
    "plt.scatter(r_eyey.T[0], r_eyey.T[1], label=\"eyey\")\n",
    "plt.scatter(r_eyez.T[0], r_eyez.T[1], label=\"eyez\")\n",
    "plt.scatter(r_ezez.T[0], r_ezez.T[1], label=\"ezez\")\n",
    "\n",
    "plt.ylim(0.1, 0.8)\n",
    "\n",
    "plt.xscale(\"log\")\n",
    "plt.yscale(\"log\")\n",
    "\n",
    "plt.xlabel(\"$r$\")\n",
    "plt.ylabel(\"$\\\\langle O_x O_y \\\\rangle$\")\n",
    "\n",
    "plt.legend()\n",
    "\n",
    "plt.savefig(\"corrs.png\", bbox_inches='tight')\n",
    "plt.show()"
   ]
  },
  {
   "cell_type": "code",
   "execution_count": null,
   "id": "62eb4b79",
   "metadata": {},
   "outputs": [],
   "source": []
  },
  {
   "cell_type": "code",
   "execution_count": null,
   "id": "695d829a",
   "metadata": {},
   "outputs": [],
   "source": []
  }
 ],
 "metadata": {
  "kernelspec": {
   "display_name": "Python 3 (ipykernel)",
   "language": "python",
   "name": "python3"
  },
  "language_info": {
   "codemirror_mode": {
    "name": "ipython",
    "version": 3
   },
   "file_extension": ".py",
   "mimetype": "text/x-python",
   "name": "python",
   "nbconvert_exporter": "python",
   "pygments_lexer": "ipython3",
   "version": "3.9.12"
  }
 },
 "nbformat": 4,
 "nbformat_minor": 5
}
