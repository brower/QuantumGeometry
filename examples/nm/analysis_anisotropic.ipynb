{
 "cells": [
  {
   "cell_type": "code",
   "execution_count": 3,
   "id": "8a14a82e",
   "metadata": {},
   "outputs": [],
   "source": [
    "import numpy as np\n",
    "import matplotlib.pyplot as plt"
   ]
  },
  {
   "cell_type": "code",
   "execution_count": 44,
   "id": "ccf7342b",
   "metadata": {},
   "outputs": [],
   "source": [
    "class Jackknife:\n",
    "    def __init__( self, len_data, binsize ):\n",
    "        self.binsize = binsize\n",
    "        self.nbins = int(len_data/self.binsize)\n",
    "        self.N = self.binsize * self.nbins\n",
    "        self.jack_avg = []\n",
    "        self.est = 0\n",
    "        self.var_est = 0\n",
    "\n",
    "    def set( self, func, list_of_data ):\n",
    "        for i in range( self.nbins ):\n",
    "            self.jack_avg.append( func( i, self.binsize, list_of_data ) )\n",
    "\n",
    "    def do_it( self ):\n",
    "        for i in range( 0, self.nbins ):\n",
    "            self.est += self.jack_avg[i]\n",
    "        self.est /= self.nbins\n",
    "\n",
    "        for i in range( 0, self.nbins ):\n",
    "            self.var_est += ( self.jack_avg[i] - self.est )**2\n",
    "        self.var_est /= self.nbins\n",
    "        self.var_est *= self.nbins -1\n",
    "\n",
    "    def mean( self ):\n",
    "        return self.est\n",
    "\n",
    "    def var( self ):\n",
    "        return self.var_est\n",
    "\n",
    "    def err( self ):\n",
    "        return np.sqrt(self.var_est)\n",
    "\n",
    "def simple_mean(i, binsize, np_data):\n",
    "    resmpld = np.delete(np_data, np.s_[i*binsize:(i+1)*binsize], axis=0)\n",
    "    return np.mean(resmpld, axis=0)\n",
    "\n",
    "def format_print(cen, err):\n",
    "    for i in range(-50, 50):\n",
    "        if 10**(-i+1)>=err>10**(-i):\n",
    "            tmp=err*10**(i+1)\n",
    "            return '{num:.{width}f}'.format(num=cen, width=i+1)+'('+str(round(tmp))+')'\n",
    "\n",
    "def format_print_w_exact(exact, cen, err):\n",
    "    for i in range(-50, 50):\n",
    "        if 10**(-i+1)>=err>10**(-i):\n",
    "            tmp=err*10**(i+1)\n",
    "            return '{num:.{width}f}'.format(num=cen, width=i+1)+'('+str(round(tmp))+')'+' exact:'+'{ex:.{width}f}'.format(ex=exact, width=i+2)+' ['+'{num:.{width}f}'.format(num=abs(exact-cen)/err, width=2)+' sigma]'"
   ]
  },
  {
   "cell_type": "code",
   "execution_count": 45,
   "id": "fd699ac1",
   "metadata": {},
   "outputs": [],
   "source": [
    "def Z2x2(beta,h,kx,ky,kz):\n",
    "    return 2.0*np.cosh(4.0*h)*np.exp(4.0*beta*(kx+ky+kz))+8.0*np.cosh(2.0*h)+2.0*(np.exp(4.0*beta*(kx-ky-kz))+np.exp(4.0*beta*(-kx+ky-kz))+np.exp(4.0*beta*(-kx-ky+kz)))\n",
    "\n",
    "def mag_per_vol2x2(beta,h,kx,ky,kz):\n",
    "    numer = np.sinh(4.0*h)*np.exp(4.0*beta*(kx+ky+kz))+2.0*np.sinh(2.0*h)\n",
    "    denom = np.cosh(4.0*h)*np.exp(4.0*beta*(kx+ky+kz))+4.0*np.cosh(2.0*h)+np.exp(4.0*beta*(kx-ky-kz))+np.exp(4.0*beta*(-kx+ky-kz))+np.exp(4.0*beta*(-kx-ky+kz))\n",
    "    return numer/denom\n",
    "\n",
    "def susc2x2(beta,h,kx,ky,kz):\n",
    "    numer1 = 4.0*np.cosh(4.0*h)*np.exp(4.0*beta*(kx+ky+kz))+4.0*np.cosh(2.0*h)\n",
    "    numer2 = np.sinh(4.0*h)*np.exp(4.0*beta*(kx+ky+kz))+2.0*np.sinh(2.0*h)\n",
    "    denom = np.cosh(4.0*h)*np.exp(4.0*beta*(kx+ky+kz))+4.0*np.cosh(2.0*h)+np.exp(4.0*beta*(kx-ky-kz))+np.exp(4.0*beta*(-kx+ky-kz))+np.exp(4.0*beta*(-kx-ky+kz))\n",
    "    return numer1/denom - 4.0*(numer2/denom)**2\n",
    "\n",
    "# delta=1.0e-3\n",
    "# print(\"mag\")\n",
    "# numeric=(np.log(Z2x2(beta, h+delta))-np.log(Z2x2(beta, h-delta)))/(2.0*delta)/4.0\n",
    "# exact=mag_per_vol2x2(beta,h)\n",
    "# print(format_print_w_exact(exact, numeric, delta**2))\n",
    "# print(\"susc\")\n",
    "# numeric=(mag_per_vol2x2(beta,h+delta)-mag_per_vol2x2(beta,h-delta))/(2.0*delta)\n",
    "# exact=susc2x2(beta,h)\n",
    "# print(format_print_w_exact(exact, numeric, delta**2))"
   ]
  },
  {
   "cell_type": "code",
   "execution_count": null,
   "id": "423f9b45",
   "metadata": {},
   "outputs": [],
   "source": []
  },
  {
   "cell_type": "code",
   "execution_count": 46,
   "id": "2cad631a",
   "metadata": {},
   "outputs": [],
   "source": [
    "beta=0.294653\n",
    "h=0.0\n",
    "kx=0.4\n",
    "ky=1.5\n",
    "kz=1.1"
   ]
  },
  {
   "cell_type": "code",
   "execution_count": null,
   "id": "9e310733",
   "metadata": {},
   "outputs": [],
   "source": []
  },
  {
   "cell_type": "code",
   "execution_count": 72,
   "id": "edf93a6f",
   "metadata": {},
   "outputs": [],
   "source": [
    "nin=1000\n",
    "nfin=10000\n",
    "nint=1\n",
    "binsize=10"
   ]
  },
  {
   "cell_type": "code",
   "execution_count": 73,
   "id": "b131084b",
   "metadata": {},
   "outputs": [],
   "source": [
    "mag_=[]\n",
    "\n",
    "for n in range(nin,nfin,nint):\n",
    "    dat=np.loadtxt(\"./obs/mag/\"+str(n)+\".dat\")\n",
    "    mag_.append(dat)\n",
    "    \n",
    "mag=np.array(mag_)"
   ]
  },
  {
   "cell_type": "code",
   "execution_count": 74,
   "id": "feebc03d",
   "metadata": {},
   "outputs": [],
   "source": [
    "jk_mag = Jackknife(mag.size, binsize)\n",
    "jk_mag.set(simple_mean, mag)\n",
    "jk_mag.do_it()"
   ]
  },
  {
   "cell_type": "code",
   "execution_count": 75,
   "id": "336890e7",
   "metadata": {},
   "outputs": [
    {
     "name": "stdout",
     "output_type": "stream",
     "text": [
      "mag_per_site\n"
     ]
    },
    {
     "data": {
      "text/plain": [
       "'-0.019(12) exact:0.0000 [1.57 sigma]'"
      ]
     },
     "execution_count": 75,
     "metadata": {},
     "output_type": "execute_result"
    }
   ],
   "source": [
    "print(\"mag_per_site\")\n",
    "format_print_w_exact(0.0, jk_mag.mean(), jk_mag.err())"
   ]
  },
  {
   "cell_type": "code",
   "execution_count": 76,
   "id": "2286d490",
   "metadata": {},
   "outputs": [],
   "source": [
    "jk_magsq = Jackknife(mag.size, binsize)\n",
    "jk_magsq.set(simple_mean, mag**2/4)\n",
    "jk_magsq.do_it()"
   ]
  },
  {
   "cell_type": "code",
   "execution_count": 77,
   "id": "fa5c4208",
   "metadata": {},
   "outputs": [
    {
     "name": "stdout",
     "output_type": "stream",
     "text": [
      "susc\n"
     ]
    },
    {
     "data": {
      "text/plain": [
       "'3.544(13) exact:3.5512 [0.58 sigma]'"
      ]
     },
     "execution_count": 77,
     "metadata": {},
     "output_type": "execute_result"
    }
   ],
   "source": [
    "print(\"susc\")\n",
    "exact=susc2x2(beta,h,kx,ky,kz)\n",
    "format_print_w_exact(exact, jk_magsq.mean(), jk_magsq.err())"
   ]
  },
  {
   "cell_type": "code",
   "execution_count": null,
   "id": "75d51a30",
   "metadata": {},
   "outputs": [],
   "source": []
  },
  {
   "cell_type": "code",
   "execution_count": 78,
   "id": "bffa0fd2",
   "metadata": {},
   "outputs": [],
   "source": [
    "ss_=[]\n",
    "\n",
    "for n in range(nin,nfin,nint):\n",
    "    dat=np.loadtxt(\"./obs/ss/\"+str(n)+\".dat\")\n",
    "    ss_.append(dat)\n",
    "    \n",
    "ss=np.array(ss_)"
   ]
  },
  {
   "cell_type": "code",
   "execution_count": 79,
   "id": "f2f035e2",
   "metadata": {},
   "outputs": [],
   "source": [
    "jk_ss = Jackknife(ss.size, binsize)\n",
    "jk_ss.set(simple_mean, ss)\n",
    "jk_ss.do_it()"
   ]
  },
  {
   "cell_type": "code",
   "execution_count": 80,
   "id": "efbbf93a",
   "metadata": {},
   "outputs": [],
   "source": [
    "jk_ss = Jackknife(ss.size, binsize)\n",
    "jk_ss.set(simple_mean, ss)\n",
    "jk_ss.do_it()"
   ]
  },
  {
   "cell_type": "code",
   "execution_count": 81,
   "id": "383810ee",
   "metadata": {},
   "outputs": [
    {
     "data": {
      "text/plain": [
       "array([[1.        , 0.82933333],\n",
       "       [0.87133333, 0.84311111]])"
      ]
     },
     "execution_count": 81,
     "metadata": {},
     "output_type": "execute_result"
    }
   ],
   "source": [
    "jk_ss.mean()"
   ]
  },
  {
   "cell_type": "code",
   "execution_count": 82,
   "id": "3de9ec9d",
   "metadata": {},
   "outputs": [
    {
     "data": {
      "text/plain": [
       "array([[0.        , 0.00497706],\n",
       "       [0.00415853, 0.00470909]])"
      ]
     },
     "execution_count": 82,
     "metadata": {},
     "output_type": "execute_result"
    }
   ],
   "source": [
    "jk_ss.err()"
   ]
  },
  {
   "cell_type": "code",
   "execution_count": null,
   "id": "f620960b",
   "metadata": {},
   "outputs": [],
   "source": []
  },
  {
   "cell_type": "code",
   "execution_count": null,
   "id": "3ab1b34d",
   "metadata": {},
   "outputs": [],
   "source": []
  },
  {
   "cell_type": "code",
   "execution_count": null,
   "id": "28eed003",
   "metadata": {},
   "outputs": [],
   "source": []
  },
  {
   "cell_type": "code",
   "execution_count": null,
   "id": "f189926d",
   "metadata": {},
   "outputs": [],
   "source": []
  },
  {
   "cell_type": "code",
   "execution_count": null,
   "id": "289896ee",
   "metadata": {},
   "outputs": [],
   "source": []
  }
 ],
 "metadata": {
  "kernelspec": {
   "display_name": "Python 3 (ipykernel)",
   "language": "python",
   "name": "python3"
  },
  "language_info": {
   "codemirror_mode": {
    "name": "ipython",
    "version": 3
   },
   "file_extension": ".py",
   "mimetype": "text/x-python",
   "name": "python",
   "nbconvert_exporter": "python",
   "pygments_lexer": "ipython3",
   "version": "3.9.12"
  }
 },
 "nbformat": 4,
 "nbformat_minor": 5
}
